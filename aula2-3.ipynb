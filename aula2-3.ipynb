{
 "cells": [
  {
   "cell_type": "markdown",
   "metadata": {},
   "source": [
    "### Importações de bibliotecas e configurações"
   ]
  },
  {
   "cell_type": "code",
   "execution_count": 99,
   "metadata": {},
   "outputs": [],
   "source": [
    "import pandas as pd\n",
    "import numpy as np\n",
    "import plotly.express as px"
   ]
  },
  {
   "cell_type": "code",
   "execution_count": 100,
   "metadata": {},
   "outputs": [],
   "source": [
    "pd.options.display.float_format = '{:.2f}'.format"
   ]
  },
  {
   "cell_type": "markdown",
   "metadata": {},
   "source": [
    "### Importando os dataframes"
   ]
  },
  {
   "cell_type": "markdown",
   "metadata": {},
   "source": [
    "#### Main\n"
   ]
  },
  {
   "cell_type": "code",
   "execution_count": 101,
   "metadata": {},
   "outputs": [
    {
     "data": {
      "text/html": [
       "<div>\n",
       "<style scoped>\n",
       "    .dataframe tbody tr th:only-of-type {\n",
       "        vertical-align: middle;\n",
       "    }\n",
       "\n",
       "    .dataframe tbody tr th {\n",
       "        vertical-align: top;\n",
       "    }\n",
       "\n",
       "    .dataframe thead th {\n",
       "        text-align: right;\n",
       "    }\n",
       "</style>\n",
       "<table border=\"1\" class=\"dataframe\">\n",
       "  <thead>\n",
       "    <tr style=\"text-align: right;\">\n",
       "      <th></th>\n",
       "      <th>Ativo</th>\n",
       "      <th>Data</th>\n",
       "      <th>Último (R$)</th>\n",
       "      <th>Var. Dia (%)</th>\n",
       "      <th>Var. Sem. (%)</th>\n",
       "      <th>Var. Mês (%)</th>\n",
       "      <th>Var. Ano (%)</th>\n",
       "      <th>Var. 12M (%)</th>\n",
       "      <th>Val. Mín</th>\n",
       "      <th>Val. Máx</th>\n",
       "      <th>Volume</th>\n",
       "      <th>Variação %</th>\n",
       "      <th>Valor Inicial R$</th>\n",
       "      <th>Qtd. Ações</th>\n",
       "      <th>Variação R$</th>\n",
       "      <th>Resultado</th>\n",
       "      <th>Empresa</th>\n",
       "      <th>Segmento</th>\n",
       "      <th>Idade</th>\n",
       "      <th>Faixa Etária</th>\n",
       "    </tr>\n",
       "  </thead>\n",
       "  <tbody>\n",
       "    <tr>\n",
       "      <th>0</th>\n",
       "      <td>USIM5</td>\n",
       "      <td>2024-01-26</td>\n",
       "      <td>9.50</td>\n",
       "      <td>5.20</td>\n",
       "      <td>11.76</td>\n",
       "      <td>2.26</td>\n",
       "      <td>2.26</td>\n",
       "      <td>15.97</td>\n",
       "      <td>9.18</td>\n",
       "      <td>9.56</td>\n",
       "      <td>319,16 M</td>\n",
       "      <td>0.05</td>\n",
       "      <td>9.03</td>\n",
       "      <td>515117391</td>\n",
       "      <td>241889725.40</td>\n",
       "      <td>Positivo</td>\n",
       "      <td>Usiminas</td>\n",
       "      <td>Siderurgia</td>\n",
       "      <td>59</td>\n",
       "      <td>Entre 50 e 100</td>\n",
       "    </tr>\n",
       "    <tr>\n",
       "      <th>1</th>\n",
       "      <td>CMIN3</td>\n",
       "      <td>2024-01-26</td>\n",
       "      <td>6.82</td>\n",
       "      <td>2.40</td>\n",
       "      <td>2.40</td>\n",
       "      <td>-12.11</td>\n",
       "      <td>-12.11</td>\n",
       "      <td>50.56</td>\n",
       "      <td>6.66</td>\n",
       "      <td>6.86</td>\n",
       "      <td>32,65 M</td>\n",
       "      <td>0.02</td>\n",
       "      <td>6.66</td>\n",
       "      <td>1110559345</td>\n",
       "      <td>177515970.30</td>\n",
       "      <td>Positivo</td>\n",
       "      <td>CSN Mineração</td>\n",
       "      <td>Mineração</td>\n",
       "      <td>64</td>\n",
       "      <td>Entre 50 e 100</td>\n",
       "    </tr>\n",
       "    <tr>\n",
       "      <th>2</th>\n",
       "      <td>PETR3</td>\n",
       "      <td>2024-01-26</td>\n",
       "      <td>41.96</td>\n",
       "      <td>2.19</td>\n",
       "      <td>7.73</td>\n",
       "      <td>7.64</td>\n",
       "      <td>7.64</td>\n",
       "      <td>77.55</td>\n",
       "      <td>40.81</td>\n",
       "      <td>42.34</td>\n",
       "      <td>436,69 M</td>\n",
       "      <td>0.02</td>\n",
       "      <td>41.06</td>\n",
       "      <td>2379877655</td>\n",
       "      <td>2140059394.00</td>\n",
       "      <td>Positivo</td>\n",
       "      <td>Petrobras</td>\n",
       "      <td>Petróleo e Gás</td>\n",
       "      <td>69</td>\n",
       "      <td>Entre 50 e 100</td>\n",
       "    </tr>\n",
       "    <tr>\n",
       "      <th>3</th>\n",
       "      <td>SUZB3</td>\n",
       "      <td>2024-01-26</td>\n",
       "      <td>52.91</td>\n",
       "      <td>2.04</td>\n",
       "      <td>2.14</td>\n",
       "      <td>-4.89</td>\n",
       "      <td>-4.89</td>\n",
       "      <td>18.85</td>\n",
       "      <td>51.89</td>\n",
       "      <td>53.17</td>\n",
       "      <td>162,55 M</td>\n",
       "      <td>0.02</td>\n",
       "      <td>51.85</td>\n",
       "      <td>683452836</td>\n",
       "      <td>722946282.70</td>\n",
       "      <td>Positivo</td>\n",
       "      <td>Suzano</td>\n",
       "      <td>Papel e Celulose</td>\n",
       "      <td>98</td>\n",
       "      <td>Entre 50 e 100</td>\n",
       "    </tr>\n",
       "    <tr>\n",
       "      <th>4</th>\n",
       "      <td>CPFE3</td>\n",
       "      <td>2024-01-26</td>\n",
       "      <td>37.10</td>\n",
       "      <td>2.03</td>\n",
       "      <td>2.49</td>\n",
       "      <td>-3.66</td>\n",
       "      <td>-3.66</td>\n",
       "      <td>20.70</td>\n",
       "      <td>36.37</td>\n",
       "      <td>37.32</td>\n",
       "      <td>73,42 M</td>\n",
       "      <td>0.02</td>\n",
       "      <td>36.36</td>\n",
       "      <td>187732538</td>\n",
       "      <td>138573955.10</td>\n",
       "      <td>Positivo</td>\n",
       "      <td>CPFL Energia</td>\n",
       "      <td>Energia</td>\n",
       "      <td>108</td>\n",
       "      <td>Mais que 100</td>\n",
       "    </tr>\n",
       "    <tr>\n",
       "      <th>...</th>\n",
       "      <td>...</td>\n",
       "      <td>...</td>\n",
       "      <td>...</td>\n",
       "      <td>...</td>\n",
       "      <td>...</td>\n",
       "      <td>...</td>\n",
       "      <td>...</td>\n",
       "      <td>...</td>\n",
       "      <td>...</td>\n",
       "      <td>...</td>\n",
       "      <td>...</td>\n",
       "      <td>...</td>\n",
       "      <td>...</td>\n",
       "      <td>...</td>\n",
       "      <td>...</td>\n",
       "      <td>...</td>\n",
       "      <td>...</td>\n",
       "      <td>...</td>\n",
       "      <td>...</td>\n",
       "      <td>...</td>\n",
       "    </tr>\n",
       "    <tr>\n",
       "      <th>76</th>\n",
       "      <td>CRFB3</td>\n",
       "      <td>2024-01-26</td>\n",
       "      <td>10.71</td>\n",
       "      <td>-2.45</td>\n",
       "      <td>-9.47</td>\n",
       "      <td>-13.98</td>\n",
       "      <td>-13.98</td>\n",
       "      <td>-32.72</td>\n",
       "      <td>10.70</td>\n",
       "      <td>11.08</td>\n",
       "      <td>38,19 M</td>\n",
       "      <td>-0.02</td>\n",
       "      <td>10.98</td>\n",
       "      <td>533990587</td>\n",
       "      <td>-143635530.60</td>\n",
       "      <td>Negativo</td>\n",
       "      <td>Carrefour Brasil</td>\n",
       "      <td>Varejo</td>\n",
       "      <td>47</td>\n",
       "      <td>Menor que 50</td>\n",
       "    </tr>\n",
       "    <tr>\n",
       "      <th>77</th>\n",
       "      <td>BHIA3</td>\n",
       "      <td>2024-01-26</td>\n",
       "      <td>8.70</td>\n",
       "      <td>-2.46</td>\n",
       "      <td>-6.95</td>\n",
       "      <td>-23.55</td>\n",
       "      <td>-23.55</td>\n",
       "      <td>-85.74</td>\n",
       "      <td>8.67</td>\n",
       "      <td>8.95</td>\n",
       "      <td>27,54 M</td>\n",
       "      <td>-0.02</td>\n",
       "      <td>8.92</td>\n",
       "      <td>94843047</td>\n",
       "      <td>-20810240.84</td>\n",
       "      <td>Negativo</td>\n",
       "      <td>Casas Bahia</td>\n",
       "      <td>Varejo</td>\n",
       "      <td>68</td>\n",
       "      <td>Entre 50 e 100</td>\n",
       "    </tr>\n",
       "    <tr>\n",
       "      <th>78</th>\n",
       "      <td>RENT3</td>\n",
       "      <td>2024-01-26</td>\n",
       "      <td>56.24</td>\n",
       "      <td>-3.63</td>\n",
       "      <td>-6.41</td>\n",
       "      <td>-11.57</td>\n",
       "      <td>-11.57</td>\n",
       "      <td>-2.77</td>\n",
       "      <td>56.04</td>\n",
       "      <td>58.90</td>\n",
       "      <td>624,74 M</td>\n",
       "      <td>-0.04</td>\n",
       "      <td>58.36</td>\n",
       "      <td>853202347</td>\n",
       "      <td>-1807432634.00</td>\n",
       "      <td>Negativo</td>\n",
       "      <td>Localiza</td>\n",
       "      <td>Aluguel de Carros</td>\n",
       "      <td>50</td>\n",
       "      <td>Entre 50 e 100</td>\n",
       "    </tr>\n",
       "    <tr>\n",
       "      <th>79</th>\n",
       "      <td>CVCB3</td>\n",
       "      <td>2024-01-26</td>\n",
       "      <td>3.07</td>\n",
       "      <td>-4.36</td>\n",
       "      <td>-5.54</td>\n",
       "      <td>-12.29</td>\n",
       "      <td>-12.29</td>\n",
       "      <td>-36.83</td>\n",
       "      <td>3.05</td>\n",
       "      <td>3.23</td>\n",
       "      <td>101,46 M</td>\n",
       "      <td>-0.04</td>\n",
       "      <td>3.21</td>\n",
       "      <td>525582771</td>\n",
       "      <td>-73557408.06</td>\n",
       "      <td>Negativo</td>\n",
       "      <td>CVC</td>\n",
       "      <td>Turismo</td>\n",
       "      <td>49</td>\n",
       "      <td>Menor que 50</td>\n",
       "    </tr>\n",
       "    <tr>\n",
       "      <th>80</th>\n",
       "      <td>GOLL4</td>\n",
       "      <td>2024-01-26</td>\n",
       "      <td>5.92</td>\n",
       "      <td>-8.07</td>\n",
       "      <td>-15.91</td>\n",
       "      <td>-34.00</td>\n",
       "      <td>-34.00</td>\n",
       "      <td>-25.44</td>\n",
       "      <td>5.51</td>\n",
       "      <td>6.02</td>\n",
       "      <td>154,36 M</td>\n",
       "      <td>-0.08</td>\n",
       "      <td>6.44</td>\n",
       "      <td>198184909</td>\n",
       "      <td>-102993202.60</td>\n",
       "      <td>Negativo</td>\n",
       "      <td>GOL</td>\n",
       "      <td>Transporte Aéreo</td>\n",
       "      <td>21</td>\n",
       "      <td>Menor que 50</td>\n",
       "    </tr>\n",
       "  </tbody>\n",
       "</table>\n",
       "<p>81 rows × 20 columns</p>\n",
       "</div>"
      ],
      "text/plain": [
       "    Ativo       Data  Último (R$)  Var. Dia (%)  Var. Sem. (%)  Var. Mês (%)  \\\n",
       "0   USIM5 2024-01-26         9.50          5.20          11.76          2.26   \n",
       "1   CMIN3 2024-01-26         6.82          2.40           2.40        -12.11   \n",
       "2   PETR3 2024-01-26        41.96          2.19           7.73          7.64   \n",
       "3   SUZB3 2024-01-26        52.91          2.04           2.14         -4.89   \n",
       "4   CPFE3 2024-01-26        37.10          2.03           2.49         -3.66   \n",
       "..    ...        ...          ...           ...            ...           ...   \n",
       "76  CRFB3 2024-01-26        10.71         -2.45          -9.47        -13.98   \n",
       "77  BHIA3 2024-01-26         8.70         -2.46          -6.95        -23.55   \n",
       "78  RENT3 2024-01-26        56.24         -3.63          -6.41        -11.57   \n",
       "79  CVCB3 2024-01-26         3.07         -4.36          -5.54        -12.29   \n",
       "80  GOLL4 2024-01-26         5.92         -8.07         -15.91        -34.00   \n",
       "\n",
       "    Var. Ano (%)  Var. 12M (%)  Val. Mín  Val. Máx    Volume  Variação %  \\\n",
       "0           2.26         15.97      9.18      9.56  319,16 M        0.05   \n",
       "1         -12.11         50.56      6.66      6.86   32,65 M        0.02   \n",
       "2           7.64         77.55     40.81     42.34  436,69 M        0.02   \n",
       "3          -4.89         18.85     51.89     53.17  162,55 M        0.02   \n",
       "4          -3.66         20.70     36.37     37.32   73,42 M        0.02   \n",
       "..           ...           ...       ...       ...       ...         ...   \n",
       "76        -13.98        -32.72     10.70     11.08   38,19 M       -0.02   \n",
       "77        -23.55        -85.74      8.67      8.95   27,54 M       -0.02   \n",
       "78        -11.57         -2.77     56.04     58.90  624,74 M       -0.04   \n",
       "79        -12.29        -36.83      3.05      3.23  101,46 M       -0.04   \n",
       "80        -34.00        -25.44      5.51      6.02  154,36 M       -0.08   \n",
       "\n",
       "    Valor Inicial R$  Qtd. Ações    Variação R$ Resultado           Empresa  \\\n",
       "0               9.03   515117391   241889725.40  Positivo          Usiminas   \n",
       "1               6.66  1110559345   177515970.30  Positivo     CSN Mineração   \n",
       "2              41.06  2379877655  2140059394.00  Positivo         Petrobras   \n",
       "3              51.85   683452836   722946282.70  Positivo            Suzano   \n",
       "4              36.36   187732538   138573955.10  Positivo      CPFL Energia   \n",
       "..               ...         ...            ...       ...               ...   \n",
       "76             10.98   533990587  -143635530.60  Negativo  Carrefour Brasil   \n",
       "77              8.92    94843047   -20810240.84  Negativo       Casas Bahia   \n",
       "78             58.36   853202347 -1807432634.00  Negativo          Localiza   \n",
       "79              3.21   525582771   -73557408.06  Negativo               CVC   \n",
       "80              6.44   198184909  -102993202.60  Negativo               GOL   \n",
       "\n",
       "             Segmento  Idade    Faixa Etária  \n",
       "0          Siderurgia     59  Entre 50 e 100  \n",
       "1           Mineração     64  Entre 50 e 100  \n",
       "2      Petróleo e Gás     69  Entre 50 e 100  \n",
       "3    Papel e Celulose     98  Entre 50 e 100  \n",
       "4             Energia    108    Mais que 100  \n",
       "..                ...    ...             ...  \n",
       "76             Varejo     47    Menor que 50  \n",
       "77             Varejo     68  Entre 50 e 100  \n",
       "78  Aluguel de Carros     50  Entre 50 e 100  \n",
       "79            Turismo     49    Menor que 50  \n",
       "80   Transporte Aéreo     21    Menor que 50  \n",
       "\n",
       "[81 rows x 20 columns]"
      ]
     },
     "execution_count": 101,
     "metadata": {},
     "output_type": "execute_result"
    }
   ],
   "source": [
    "main_df = pd.read_excel('im-py-stocks.xlsx', sheet_name='Main')\n",
    "main_df"
   ]
  },
  {
   "cell_type": "markdown",
   "metadata": {},
   "source": [
    "#### Ticker"
   ]
  },
  {
   "cell_type": "code",
   "execution_count": 102,
   "metadata": {},
   "outputs": [
    {
     "data": {
      "text/html": [
       "<div>\n",
       "<style scoped>\n",
       "    .dataframe tbody tr th:only-of-type {\n",
       "        vertical-align: middle;\n",
       "    }\n",
       "\n",
       "    .dataframe tbody tr th {\n",
       "        vertical-align: top;\n",
       "    }\n",
       "\n",
       "    .dataframe thead th {\n",
       "        text-align: right;\n",
       "    }\n",
       "</style>\n",
       "<table border=\"1\" class=\"dataframe\">\n",
       "  <thead>\n",
       "    <tr style=\"text-align: right;\">\n",
       "      <th></th>\n",
       "      <th>Ticker</th>\n",
       "      <th>Nome</th>\n",
       "    </tr>\n",
       "  </thead>\n",
       "  <tbody>\n",
       "    <tr>\n",
       "      <th>0</th>\n",
       "      <td>MGLU3</td>\n",
       "      <td>Magazine Luiza</td>\n",
       "    </tr>\n",
       "    <tr>\n",
       "      <th>1</th>\n",
       "      <td>HAPV3</td>\n",
       "      <td>Hapvida</td>\n",
       "    </tr>\n",
       "    <tr>\n",
       "      <th>2</th>\n",
       "      <td>PETR4</td>\n",
       "      <td>Petrobras</td>\n",
       "    </tr>\n",
       "    <tr>\n",
       "      <th>3</th>\n",
       "      <td>B3SA3</td>\n",
       "      <td>B3</td>\n",
       "    </tr>\n",
       "    <tr>\n",
       "      <th>4</th>\n",
       "      <td>USIM5</td>\n",
       "      <td>Usiminas</td>\n",
       "    </tr>\n",
       "    <tr>\n",
       "      <th>...</th>\n",
       "      <td>...</td>\n",
       "      <td>...</td>\n",
       "    </tr>\n",
       "    <tr>\n",
       "      <th>530</th>\n",
       "      <td>TKNO3</td>\n",
       "      <td>Tekno</td>\n",
       "    </tr>\n",
       "    <tr>\n",
       "      <th>531</th>\n",
       "      <td>COCE6</td>\n",
       "      <td>Coelce</td>\n",
       "    </tr>\n",
       "    <tr>\n",
       "      <th>532</th>\n",
       "      <td>MGEL3</td>\n",
       "      <td>Mangels</td>\n",
       "    </tr>\n",
       "    <tr>\n",
       "      <th>533</th>\n",
       "      <td>CTSA8</td>\n",
       "      <td>Santanense</td>\n",
       "    </tr>\n",
       "    <tr>\n",
       "      <th>534</th>\n",
       "      <td>MMAQ4</td>\n",
       "      <td>Minasmáquinas</td>\n",
       "    </tr>\n",
       "  </tbody>\n",
       "</table>\n",
       "<p>535 rows × 2 columns</p>\n",
       "</div>"
      ],
      "text/plain": [
       "    Ticker            Nome\n",
       "0    MGLU3  Magazine Luiza\n",
       "1    HAPV3         Hapvida\n",
       "2    PETR4       Petrobras\n",
       "3    B3SA3              B3\n",
       "4    USIM5        Usiminas\n",
       "..     ...             ...\n",
       "530  TKNO3           Tekno\n",
       "531  COCE6          Coelce\n",
       "532  MGEL3         Mangels\n",
       "533  CTSA8      Santanense\n",
       "534  MMAQ4   Minasmáquinas\n",
       "\n",
       "[535 rows x 2 columns]"
      ]
     },
     "execution_count": 102,
     "metadata": {},
     "output_type": "execute_result"
    }
   ],
   "source": [
    "ticker_df = pd.read_excel('im-py-stocks.xlsx', sheet_name='Ticker')\n",
    "ticker_df"
   ]
  },
  {
   "cell_type": "markdown",
   "metadata": {},
   "source": [
    "#### Analysis"
   ]
  },
  {
   "cell_type": "code",
   "execution_count": 103,
   "metadata": {},
   "outputs": [
    {
     "data": {
      "text/html": [
       "<div>\n",
       "<style scoped>\n",
       "    .dataframe tbody tr th:only-of-type {\n",
       "        vertical-align: middle;\n",
       "    }\n",
       "\n",
       "    .dataframe tbody tr th {\n",
       "        vertical-align: top;\n",
       "    }\n",
       "\n",
       "    .dataframe thead th {\n",
       "        text-align: right;\n",
       "    }\n",
       "</style>\n",
       "<table border=\"1\" class=\"dataframe\">\n",
       "  <thead>\n",
       "    <tr style=\"text-align: right;\">\n",
       "      <th></th>\n",
       "      <th>Maior</th>\n",
       "      <th>4762926995</th>\n",
       "      <th>Vale</th>\n",
       "    </tr>\n",
       "  </thead>\n",
       "  <tbody>\n",
       "    <tr>\n",
       "      <th>0</th>\n",
       "      <td>Menor</td>\n",
       "      <td>-1807432634</td>\n",
       "      <td>Localiza</td>\n",
       "    </tr>\n",
       "    <tr>\n",
       "      <th>1</th>\n",
       "      <td>Média</td>\n",
       "      <td>165190210.50</td>\n",
       "      <td>NaN</td>\n",
       "    </tr>\n",
       "    <tr>\n",
       "      <th>2</th>\n",
       "      <td>Média dos positivos</td>\n",
       "      <td>448164250.20</td>\n",
       "      <td>NaN</td>\n",
       "    </tr>\n",
       "    <tr>\n",
       "      <th>3</th>\n",
       "      <td>Média dos negativos</td>\n",
       "      <td>-181109141.80</td>\n",
       "      <td>NaN</td>\n",
       "    </tr>\n",
       "    <tr>\n",
       "      <th>4</th>\n",
       "      <td>NaN</td>\n",
       "      <td>NaN</td>\n",
       "      <td>NaN</td>\n",
       "    </tr>\n",
       "    <tr>\n",
       "      <th>5</th>\n",
       "      <td>NaN</td>\n",
       "      <td>NaN</td>\n",
       "      <td>NaN</td>\n",
       "    </tr>\n",
       "    <tr>\n",
       "      <th>6</th>\n",
       "      <td>Segmento</td>\n",
       "      <td>Variação</td>\n",
       "      <td>Variação Positva</td>\n",
       "    </tr>\n",
       "    <tr>\n",
       "      <th>7</th>\n",
       "      <td>Siderurgia</td>\n",
       "      <td>489935930.90</td>\n",
       "      <td>489935930.90</td>\n",
       "    </tr>\n",
       "    <tr>\n",
       "      <th>8</th>\n",
       "      <td>Mineração</td>\n",
       "      <td>4940442966</td>\n",
       "      <td>4940442966</td>\n",
       "    </tr>\n",
       "    <tr>\n",
       "      <th>9</th>\n",
       "      <td>Petróleo e Gás</td>\n",
       "      <td>6093288832</td>\n",
       "      <td>6093288832</td>\n",
       "    </tr>\n",
       "    <tr>\n",
       "      <th>10</th>\n",
       "      <td>Papel e Celulose</td>\n",
       "      <td>722946282.70</td>\n",
       "      <td>722946282.70</td>\n",
       "    </tr>\n",
       "    <tr>\n",
       "      <th>11</th>\n",
       "      <td>Energia</td>\n",
       "      <td>-184489135.10</td>\n",
       "      <td>693886746.40</td>\n",
       "    </tr>\n",
       "    <tr>\n",
       "      <th>12</th>\n",
       "      <td>Shopping Centers</td>\n",
       "      <td>117732680.10</td>\n",
       "      <td>117732680.10</td>\n",
       "    </tr>\n",
       "    <tr>\n",
       "      <th>13</th>\n",
       "      <td>Serviços Financeiros</td>\n",
       "      <td>2566726352</td>\n",
       "      <td>3740512019</td>\n",
       "    </tr>\n",
       "    <tr>\n",
       "      <th>14</th>\n",
       "      <td>Saúde</td>\n",
       "      <td>60321469.88</td>\n",
       "      <td>453917907</td>\n",
       "    </tr>\n",
       "    <tr>\n",
       "      <th>15</th>\n",
       "      <td>Petroquímica</td>\n",
       "      <td>69054317.64</td>\n",
       "      <td>69054317.64</td>\n",
       "    </tr>\n",
       "    <tr>\n",
       "      <th>16</th>\n",
       "      <td>Transporte Aéreo</td>\n",
       "      <td>-37540997.06</td>\n",
       "      <td>65452205.55</td>\n",
       "    </tr>\n",
       "    <tr>\n",
       "      <th>17</th>\n",
       "      <td>Educação</td>\n",
       "      <td>54641872.47</td>\n",
       "      <td>72295838.99</td>\n",
       "    </tr>\n",
       "    <tr>\n",
       "      <th>18</th>\n",
       "      <td>Energia e Química</td>\n",
       "      <td>388705224</td>\n",
       "      <td>388705224</td>\n",
       "    </tr>\n",
       "    <tr>\n",
       "      <th>19</th>\n",
       "      <td>Construção Civil</td>\n",
       "      <td>-61087401.61</td>\n",
       "      <td>37525872.38</td>\n",
       "    </tr>\n",
       "    <tr>\n",
       "      <th>20</th>\n",
       "      <td>Moda e Calçados</td>\n",
       "      <td>-376281218.80</td>\n",
       "      <td>41021792.09</td>\n",
       "    </tr>\n",
       "    <tr>\n",
       "      <th>21</th>\n",
       "      <td>Alimentos</td>\n",
       "      <td>407833683.10</td>\n",
       "      <td>407833683.10</td>\n",
       "    </tr>\n",
       "    <tr>\n",
       "      <th>22</th>\n",
       "      <td>Varejo</td>\n",
       "      <td>-407054634.70</td>\n",
       "      <td>34834535.50</td>\n",
       "    </tr>\n",
       "    <tr>\n",
       "      <th>23</th>\n",
       "      <td>Telecomunicações</td>\n",
       "      <td>292938114.40</td>\n",
       "      <td>292938114.40</td>\n",
       "    </tr>\n",
       "    <tr>\n",
       "      <th>24</th>\n",
       "      <td>Logística</td>\n",
       "      <td>233902674.80</td>\n",
       "      <td>233902674.80</td>\n",
       "    </tr>\n",
       "    <tr>\n",
       "      <th>25</th>\n",
       "      <td>Meios de Pagamento</td>\n",
       "      <td>43657683.38</td>\n",
       "      <td>43657683.38</td>\n",
       "    </tr>\n",
       "    <tr>\n",
       "      <th>26</th>\n",
       "      <td>Holding</td>\n",
       "      <td>18068446.61</td>\n",
       "      <td>18068446.61</td>\n",
       "    </tr>\n",
       "    <tr>\n",
       "      <th>27</th>\n",
       "      <td>Investimentos Diversos</td>\n",
       "      <td>416092244.40</td>\n",
       "      <td>416092244.40</td>\n",
       "    </tr>\n",
       "    <tr>\n",
       "      <th>28</th>\n",
       "      <td>Tecnologia</td>\n",
       "      <td>-112162901.50</td>\n",
       "      <td>15598886.65</td>\n",
       "    </tr>\n",
       "    <tr>\n",
       "      <th>29</th>\n",
       "      <td>Farmácias</td>\n",
       "      <td>202352473.70</td>\n",
       "      <td>202352473.70</td>\n",
       "    </tr>\n",
       "    <tr>\n",
       "      <th>30</th>\n",
       "      <td>Energia e Infraestrutura</td>\n",
       "      <td>127229653.20</td>\n",
       "      <td>127229653.20</td>\n",
       "    </tr>\n",
       "    <tr>\n",
       "      <th>31</th>\n",
       "      <td>Bebidas</td>\n",
       "      <td>0</td>\n",
       "      <td>0</td>\n",
       "    </tr>\n",
       "    <tr>\n",
       "      <th>32</th>\n",
       "      <td>Seguros</td>\n",
       "      <td>-26297880.21</td>\n",
       "      <td>0</td>\n",
       "    </tr>\n",
       "    <tr>\n",
       "      <th>33</th>\n",
       "      <td>Saneamento</td>\n",
       "      <td>-15725678.56</td>\n",
       "      <td>0</td>\n",
       "    </tr>\n",
       "    <tr>\n",
       "      <th>34</th>\n",
       "      <td>Agricultura</td>\n",
       "      <td>-9468663.68</td>\n",
       "      <td>0</td>\n",
       "    </tr>\n",
       "    <tr>\n",
       "      <th>35</th>\n",
       "      <td>Infraestrutura</td>\n",
       "      <td>-39743554.31</td>\n",
       "      <td>0</td>\n",
       "    </tr>\n",
       "    <tr>\n",
       "      <th>36</th>\n",
       "      <td>Aeroespacial</td>\n",
       "      <td>-233651943.50</td>\n",
       "      <td>0</td>\n",
       "    </tr>\n",
       "    <tr>\n",
       "      <th>37</th>\n",
       "      <td>Beleza</td>\n",
       "      <td>-193280001.20</td>\n",
       "      <td>0</td>\n",
       "    </tr>\n",
       "    <tr>\n",
       "      <th>38</th>\n",
       "      <td>Farmacêutica</td>\n",
       "      <td>-208257014.20</td>\n",
       "      <td>0</td>\n",
       "    </tr>\n",
       "    <tr>\n",
       "      <th>39</th>\n",
       "      <td>Agronegócio</td>\n",
       "      <td>-79432785.74</td>\n",
       "      <td>0</td>\n",
       "    </tr>\n",
       "    <tr>\n",
       "      <th>40</th>\n",
       "      <td>Aluguel de Carros</td>\n",
       "      <td>-1807432634</td>\n",
       "      <td>0</td>\n",
       "    </tr>\n",
       "    <tr>\n",
       "      <th>41</th>\n",
       "      <td>Turismo</td>\n",
       "      <td>-73557408.06</td>\n",
       "      <td>0</td>\n",
       "    </tr>\n",
       "    <tr>\n",
       "      <th>42</th>\n",
       "      <td>NaN</td>\n",
       "      <td>NaN</td>\n",
       "      <td>NaN</td>\n",
       "    </tr>\n",
       "    <tr>\n",
       "      <th>43</th>\n",
       "      <td>NaN</td>\n",
       "      <td>NaN</td>\n",
       "      <td>NaN</td>\n",
       "    </tr>\n",
       "    <tr>\n",
       "      <th>44</th>\n",
       "      <td>Resultado</td>\n",
       "      <td>Variação</td>\n",
       "      <td>NaN</td>\n",
       "    </tr>\n",
       "    <tr>\n",
       "      <th>45</th>\n",
       "      <td>Positivo</td>\n",
       "      <td>19719227010</td>\n",
       "      <td>NaN</td>\n",
       "    </tr>\n",
       "    <tr>\n",
       "      <th>46</th>\n",
       "      <td>Estável</td>\n",
       "      <td>0</td>\n",
       "      <td>NaN</td>\n",
       "    </tr>\n",
       "    <tr>\n",
       "      <th>47</th>\n",
       "      <td>Negativo</td>\n",
       "      <td>-6338819961</td>\n",
       "      <td>NaN</td>\n",
       "    </tr>\n",
       "    <tr>\n",
       "      <th>48</th>\n",
       "      <td>NaN</td>\n",
       "      <td>13380407049</td>\n",
       "      <td>NaN</td>\n",
       "    </tr>\n",
       "    <tr>\n",
       "      <th>49</th>\n",
       "      <td>NaN</td>\n",
       "      <td>NaN</td>\n",
       "      <td>NaN</td>\n",
       "    </tr>\n",
       "    <tr>\n",
       "      <th>50</th>\n",
       "      <td>NaN</td>\n",
       "      <td>NaN</td>\n",
       "      <td>NaN</td>\n",
       "    </tr>\n",
       "    <tr>\n",
       "      <th>51</th>\n",
       "      <td>Faixa Etária</td>\n",
       "      <td>Variação</td>\n",
       "      <td>Quantidade</td>\n",
       "    </tr>\n",
       "    <tr>\n",
       "      <th>52</th>\n",
       "      <td>Entre 50 e 100</td>\n",
       "      <td>12256067174</td>\n",
       "      <td>34</td>\n",
       "    </tr>\n",
       "    <tr>\n",
       "      <th>53</th>\n",
       "      <td>Mais que 100</td>\n",
       "      <td>-202408309.90</td>\n",
       "      <td>7</td>\n",
       "    </tr>\n",
       "    <tr>\n",
       "      <th>54</th>\n",
       "      <td>Menor que 50</td>\n",
       "      <td>1326748185</td>\n",
       "      <td>40</td>\n",
       "    </tr>\n",
       "  </tbody>\n",
       "</table>\n",
       "</div>"
      ],
      "text/plain": [
       "                       Maior    4762926995              Vale\n",
       "0                      Menor   -1807432634          Localiza\n",
       "1                      Média  165190210.50               NaN\n",
       "2        Média dos positivos  448164250.20               NaN\n",
       "3        Média dos negativos -181109141.80               NaN\n",
       "4                        NaN           NaN               NaN\n",
       "5                        NaN           NaN               NaN\n",
       "6                   Segmento      Variação  Variação Positva\n",
       "7                 Siderurgia  489935930.90      489935930.90\n",
       "8                  Mineração    4940442966        4940442966\n",
       "9             Petróleo e Gás    6093288832        6093288832\n",
       "10          Papel e Celulose  722946282.70      722946282.70\n",
       "11                   Energia -184489135.10      693886746.40\n",
       "12          Shopping Centers  117732680.10      117732680.10\n",
       "13      Serviços Financeiros    2566726352        3740512019\n",
       "14                     Saúde   60321469.88         453917907\n",
       "15              Petroquímica   69054317.64       69054317.64\n",
       "16          Transporte Aéreo  -37540997.06       65452205.55\n",
       "17                  Educação   54641872.47       72295838.99\n",
       "18         Energia e Química     388705224         388705224\n",
       "19          Construção Civil  -61087401.61       37525872.38\n",
       "20           Moda e Calçados -376281218.80       41021792.09\n",
       "21                 Alimentos  407833683.10      407833683.10\n",
       "22                    Varejo -407054634.70       34834535.50\n",
       "23          Telecomunicações  292938114.40      292938114.40\n",
       "24                 Logística  233902674.80      233902674.80\n",
       "25        Meios de Pagamento   43657683.38       43657683.38\n",
       "26                   Holding   18068446.61       18068446.61\n",
       "27    Investimentos Diversos  416092244.40      416092244.40\n",
       "28                Tecnologia -112162901.50       15598886.65\n",
       "29                 Farmácias  202352473.70      202352473.70\n",
       "30  Energia e Infraestrutura  127229653.20      127229653.20\n",
       "31                   Bebidas             0                 0\n",
       "32                   Seguros  -26297880.21                 0\n",
       "33                Saneamento  -15725678.56                 0\n",
       "34               Agricultura   -9468663.68                 0\n",
       "35            Infraestrutura  -39743554.31                 0\n",
       "36              Aeroespacial -233651943.50                 0\n",
       "37                    Beleza -193280001.20                 0\n",
       "38              Farmacêutica -208257014.20                 0\n",
       "39               Agronegócio  -79432785.74                 0\n",
       "40         Aluguel de Carros   -1807432634                 0\n",
       "41                   Turismo  -73557408.06                 0\n",
       "42                       NaN           NaN               NaN\n",
       "43                       NaN           NaN               NaN\n",
       "44                 Resultado      Variação               NaN\n",
       "45                  Positivo   19719227010               NaN\n",
       "46                   Estável             0               NaN\n",
       "47                  Negativo   -6338819961               NaN\n",
       "48                       NaN   13380407049               NaN\n",
       "49                       NaN           NaN               NaN\n",
       "50                       NaN           NaN               NaN\n",
       "51              Faixa Etária      Variação        Quantidade\n",
       "52            Entre 50 e 100   12256067174                34\n",
       "53              Mais que 100 -202408309.90                 7\n",
       "54              Menor que 50    1326748185                40"
      ]
     },
     "execution_count": 103,
     "metadata": {},
     "output_type": "execute_result"
    }
   ],
   "source": [
    "analysis_df = pd.read_excel('im-py-stocks.xlsx', sheet_name='Analysis')\n",
    "analysis_df"
   ]
  },
  {
   "cell_type": "markdown",
   "metadata": {},
   "source": [
    "#### Stocks"
   ]
  },
  {
   "cell_type": "code",
   "execution_count": 104,
   "metadata": {},
   "outputs": [
    {
     "data": {
      "text/html": [
       "<div>\n",
       "<style scoped>\n",
       "    .dataframe tbody tr th:only-of-type {\n",
       "        vertical-align: middle;\n",
       "    }\n",
       "\n",
       "    .dataframe tbody tr th {\n",
       "        vertical-align: top;\n",
       "    }\n",
       "\n",
       "    .dataframe thead th {\n",
       "        text-align: right;\n",
       "    }\n",
       "</style>\n",
       "<table border=\"1\" class=\"dataframe\">\n",
       "  <thead>\n",
       "    <tr style=\"text-align: right;\">\n",
       "      <th></th>\n",
       "      <th>Código</th>\n",
       "      <th>Qtde. Teórica</th>\n",
       "    </tr>\n",
       "  </thead>\n",
       "  <tbody>\n",
       "    <tr>\n",
       "      <th>0</th>\n",
       "      <td>RRRP3</td>\n",
       "      <td>235665566.00</td>\n",
       "    </tr>\n",
       "    <tr>\n",
       "      <th>1</th>\n",
       "      <td>ALOS3</td>\n",
       "      <td>532616595.00</td>\n",
       "    </tr>\n",
       "    <tr>\n",
       "      <th>2</th>\n",
       "      <td>ALPA4</td>\n",
       "      <td>176733968.00</td>\n",
       "    </tr>\n",
       "    <tr>\n",
       "      <th>3</th>\n",
       "      <td>ABEV3</td>\n",
       "      <td>4394245879.00</td>\n",
       "    </tr>\n",
       "    <tr>\n",
       "      <th>4</th>\n",
       "      <td>ARZZ3</td>\n",
       "      <td>62305891.00</td>\n",
       "    </tr>\n",
       "    <tr>\n",
       "      <th>...</th>\n",
       "      <td>...</td>\n",
       "      <td>...</td>\n",
       "    </tr>\n",
       "    <tr>\n",
       "      <th>84</th>\n",
       "      <td>VBBR3</td>\n",
       "      <td>1114412532.00</td>\n",
       "    </tr>\n",
       "    <tr>\n",
       "      <th>85</th>\n",
       "      <td>WEGE3</td>\n",
       "      <td>1481593024.00</td>\n",
       "    </tr>\n",
       "    <tr>\n",
       "      <th>86</th>\n",
       "      <td>YDUQ3</td>\n",
       "      <td>289347914.00</td>\n",
       "    </tr>\n",
       "    <tr>\n",
       "      <th>87</th>\n",
       "      <td>Quantidade Teórica Total</td>\n",
       "      <td>96372098181.00</td>\n",
       "    </tr>\n",
       "    <tr>\n",
       "      <th>88</th>\n",
       "      <td>Redutor</td>\n",
       "      <td>17047850.79</td>\n",
       "    </tr>\n",
       "  </tbody>\n",
       "</table>\n",
       "<p>89 rows × 2 columns</p>\n",
       "</div>"
      ],
      "text/plain": [
       "                      Código  Qtde. Teórica\n",
       "0                      RRRP3   235665566.00\n",
       "1                      ALOS3   532616595.00\n",
       "2                      ALPA4   176733968.00\n",
       "3                      ABEV3  4394245879.00\n",
       "4                      ARZZ3    62305891.00\n",
       "..                       ...            ...\n",
       "84                     VBBR3  1114412532.00\n",
       "85                     WEGE3  1481593024.00\n",
       "86                     YDUQ3   289347914.00\n",
       "87  Quantidade Teórica Total 96372098181.00\n",
       "88                   Redutor    17047850.79\n",
       "\n",
       "[89 rows x 2 columns]"
      ]
     },
     "execution_count": 104,
     "metadata": {},
     "output_type": "execute_result"
    }
   ],
   "source": [
    "stocks_df = pd.read_excel('im-py-stocks.xlsx', sheet_name='Stocks')\n",
    "stocks_df"
   ]
  },
  {
   "cell_type": "markdown",
   "metadata": {},
   "source": [
    "#### ChatGPT"
   ]
  },
  {
   "cell_type": "code",
   "execution_count": 105,
   "metadata": {},
   "outputs": [
    {
     "data": {
      "text/html": [
       "<div>\n",
       "<style scoped>\n",
       "    .dataframe tbody tr th:only-of-type {\n",
       "        vertical-align: middle;\n",
       "    }\n",
       "\n",
       "    .dataframe tbody tr th {\n",
       "        vertical-align: top;\n",
       "    }\n",
       "\n",
       "    .dataframe thead th {\n",
       "        text-align: right;\n",
       "    }\n",
       "</style>\n",
       "<table border=\"1\" class=\"dataframe\">\n",
       "  <thead>\n",
       "    <tr style=\"text-align: right;\">\n",
       "      <th></th>\n",
       "      <th>Nome da Empresa</th>\n",
       "      <th>Segmento</th>\n",
       "      <th>Idade</th>\n",
       "    </tr>\n",
       "  </thead>\n",
       "  <tbody>\n",
       "    <tr>\n",
       "      <th>0</th>\n",
       "      <td>Usiminas</td>\n",
       "      <td>Siderurgia</td>\n",
       "      <td>59</td>\n",
       "    </tr>\n",
       "    <tr>\n",
       "      <th>1</th>\n",
       "      <td>CSN Mineração</td>\n",
       "      <td>Mineração</td>\n",
       "      <td>64</td>\n",
       "    </tr>\n",
       "    <tr>\n",
       "      <th>2</th>\n",
       "      <td>Petrobras</td>\n",
       "      <td>Petróleo e Gás</td>\n",
       "      <td>69</td>\n",
       "    </tr>\n",
       "    <tr>\n",
       "      <th>3</th>\n",
       "      <td>Suzano</td>\n",
       "      <td>Papel e Celulose</td>\n",
       "      <td>98</td>\n",
       "    </tr>\n",
       "    <tr>\n",
       "      <th>4</th>\n",
       "      <td>CPFL Energia</td>\n",
       "      <td>Energia</td>\n",
       "      <td>108</td>\n",
       "    </tr>\n",
       "    <tr>\n",
       "      <th>...</th>\n",
       "      <td>...</td>\n",
       "      <td>...</td>\n",
       "      <td>...</td>\n",
       "    </tr>\n",
       "    <tr>\n",
       "      <th>75</th>\n",
       "      <td>Carrefour Brasil</td>\n",
       "      <td>Varejo</td>\n",
       "      <td>47</td>\n",
       "    </tr>\n",
       "    <tr>\n",
       "      <th>76</th>\n",
       "      <td>Casas Bahia</td>\n",
       "      <td>Varejo</td>\n",
       "      <td>68</td>\n",
       "    </tr>\n",
       "    <tr>\n",
       "      <th>77</th>\n",
       "      <td>Localiza</td>\n",
       "      <td>Aluguel de Carros</td>\n",
       "      <td>50</td>\n",
       "    </tr>\n",
       "    <tr>\n",
       "      <th>78</th>\n",
       "      <td>CVC</td>\n",
       "      <td>Turismo</td>\n",
       "      <td>49</td>\n",
       "    </tr>\n",
       "    <tr>\n",
       "      <th>79</th>\n",
       "      <td>GOL</td>\n",
       "      <td>Transporte Aéreo</td>\n",
       "      <td>21</td>\n",
       "    </tr>\n",
       "  </tbody>\n",
       "</table>\n",
       "<p>80 rows × 3 columns</p>\n",
       "</div>"
      ],
      "text/plain": [
       "     Nome da Empresa           Segmento  Idade\n",
       "0           Usiminas         Siderurgia     59\n",
       "1      CSN Mineração          Mineração     64\n",
       "2          Petrobras     Petróleo e Gás     69\n",
       "3             Suzano   Papel e Celulose     98\n",
       "4       CPFL Energia            Energia    108\n",
       "..               ...                ...    ...\n",
       "75  Carrefour Brasil             Varejo     47\n",
       "76       Casas Bahia             Varejo     68\n",
       "77          Localiza  Aluguel de Carros     50\n",
       "78               CVC            Turismo     49\n",
       "79               GOL   Transporte Aéreo     21\n",
       "\n",
       "[80 rows x 3 columns]"
      ]
     },
     "execution_count": 105,
     "metadata": {},
     "output_type": "execute_result"
    }
   ],
   "source": [
    "chatgpt_df = pd.read_excel('im-py-stocks.xlsx', sheet_name='ChatGPT')\n",
    "chatgpt_df"
   ]
  },
  {
   "cell_type": "markdown",
   "metadata": {},
   "source": [
    "### Preprocessamento"
   ]
  },
  {
   "cell_type": "code",
   "execution_count": 106,
   "metadata": {},
   "outputs": [
    {
     "data": {
      "text/plain": [
       "Index(['Ativo', 'Data', 'Último (R$)', 'Var. Dia (%)', 'Var. Sem. (%)',\n",
       "       'Var. Mês (%)', 'Var. Ano (%)', 'Var. 12M (%)', 'Val. Mín', 'Val. Máx',\n",
       "       'Volume', 'Variação %', 'Valor Inicial R$', 'Qtd. Ações', 'Variação R$',\n",
       "       'Resultado', 'Empresa', 'Segmento', 'Idade', 'Faixa Etária'],\n",
       "      dtype='object')"
      ]
     },
     "execution_count": 106,
     "metadata": {},
     "output_type": "execute_result"
    }
   ],
   "source": [
    "main_df.columns"
   ]
  },
  {
   "cell_type": "code",
   "execution_count": 107,
   "metadata": {},
   "outputs": [
    {
     "data": {
      "text/plain": [
       "Index(['Ativo', 'Data', 'Último (R$)', 'Var. Dia (%)'], dtype='object')"
      ]
     },
     "execution_count": 107,
     "metadata": {},
     "output_type": "execute_result"
    }
   ],
   "source": [
    "main_df = main_df[['Ativo', 'Data', 'Último (R$)', 'Var. Dia (%)']].copy()\n",
    "main_df.columns"
   ]
  },
  {
   "cell_type": "code",
   "execution_count": 108,
   "metadata": {},
   "outputs": [
    {
     "data": {
      "text/plain": [
       "Index(['Ativo', 'Data', 'valor_final', 'var_dia_pct'], dtype='object')"
      ]
     },
     "execution_count": 108,
     "metadata": {},
     "output_type": "execute_result"
    }
   ],
   "source": [
    "main_df = main_df.rename(columns={'Último (R$)': 'valor_final', 'Var. Dia (%)': 'var_dia_pct'}).copy()\n",
    "main_df.columns"
   ]
  },
  {
   "cell_type": "markdown",
   "metadata": {},
   "source": [
    "### Exploração dos dados"
   ]
  },
  {
   "cell_type": "markdown",
   "metadata": {},
   "source": [
    "Extraindo a porcentagem de variação da ação na empresa"
   ]
  },
  {
   "cell_type": "code",
   "execution_count": 109,
   "metadata": {},
   "outputs": [],
   "source": [
    "main_df['var_pct'] = main_df['var_dia_pct'] / 100"
   ]
  },
  {
   "cell_type": "code",
   "execution_count": 110,
   "metadata": {},
   "outputs": [
    {
     "data": {
      "text/html": [
       "<div>\n",
       "<style scoped>\n",
       "    .dataframe tbody tr th:only-of-type {\n",
       "        vertical-align: middle;\n",
       "    }\n",
       "\n",
       "    .dataframe tbody tr th {\n",
       "        vertical-align: top;\n",
       "    }\n",
       "\n",
       "    .dataframe thead th {\n",
       "        text-align: right;\n",
       "    }\n",
       "</style>\n",
       "<table border=\"1\" class=\"dataframe\">\n",
       "  <thead>\n",
       "    <tr style=\"text-align: right;\">\n",
       "      <th></th>\n",
       "      <th>Ativo</th>\n",
       "      <th>Data</th>\n",
       "      <th>valor_final</th>\n",
       "      <th>var_dia_pct</th>\n",
       "      <th>var_pct</th>\n",
       "    </tr>\n",
       "  </thead>\n",
       "  <tbody>\n",
       "    <tr>\n",
       "      <th>0</th>\n",
       "      <td>USIM5</td>\n",
       "      <td>2024-01-26</td>\n",
       "      <td>9.50</td>\n",
       "      <td>5.20</td>\n",
       "      <td>0.05</td>\n",
       "    </tr>\n",
       "    <tr>\n",
       "      <th>1</th>\n",
       "      <td>CMIN3</td>\n",
       "      <td>2024-01-26</td>\n",
       "      <td>6.82</td>\n",
       "      <td>2.40</td>\n",
       "      <td>0.02</td>\n",
       "    </tr>\n",
       "    <tr>\n",
       "      <th>2</th>\n",
       "      <td>PETR3</td>\n",
       "      <td>2024-01-26</td>\n",
       "      <td>41.96</td>\n",
       "      <td>2.19</td>\n",
       "      <td>0.02</td>\n",
       "    </tr>\n",
       "    <tr>\n",
       "      <th>3</th>\n",
       "      <td>SUZB3</td>\n",
       "      <td>2024-01-26</td>\n",
       "      <td>52.91</td>\n",
       "      <td>2.04</td>\n",
       "      <td>0.02</td>\n",
       "    </tr>\n",
       "    <tr>\n",
       "      <th>4</th>\n",
       "      <td>CPFE3</td>\n",
       "      <td>2024-01-26</td>\n",
       "      <td>37.10</td>\n",
       "      <td>2.03</td>\n",
       "      <td>0.02</td>\n",
       "    </tr>\n",
       "  </tbody>\n",
       "</table>\n",
       "</div>"
      ],
      "text/plain": [
       "   Ativo       Data  valor_final  var_dia_pct  var_pct\n",
       "0  USIM5 2024-01-26         9.50         5.20     0.05\n",
       "1  CMIN3 2024-01-26         6.82         2.40     0.02\n",
       "2  PETR3 2024-01-26        41.96         2.19     0.02\n",
       "3  SUZB3 2024-01-26        52.91         2.04     0.02\n",
       "4  CPFE3 2024-01-26        37.10         2.03     0.02"
      ]
     },
     "execution_count": 110,
     "metadata": {},
     "output_type": "execute_result"
    }
   ],
   "source": [
    "main_df.head(5)"
   ]
  },
  {
   "cell_type": "markdown",
   "metadata": {},
   "source": [
    "Extraindo o valor inicial da ação da empresa"
   ]
  },
  {
   "cell_type": "code",
   "execution_count": 111,
   "metadata": {},
   "outputs": [],
   "source": [
    "main_df['valor_inicial'] = main_df['valor_final'] / (1 + main_df['var_pct'])"
   ]
  },
  {
   "cell_type": "code",
   "execution_count": 112,
   "metadata": {},
   "outputs": [
    {
     "data": {
      "text/html": [
       "<div>\n",
       "<style scoped>\n",
       "    .dataframe tbody tr th:only-of-type {\n",
       "        vertical-align: middle;\n",
       "    }\n",
       "\n",
       "    .dataframe tbody tr th {\n",
       "        vertical-align: top;\n",
       "    }\n",
       "\n",
       "    .dataframe thead th {\n",
       "        text-align: right;\n",
       "    }\n",
       "</style>\n",
       "<table border=\"1\" class=\"dataframe\">\n",
       "  <thead>\n",
       "    <tr style=\"text-align: right;\">\n",
       "      <th></th>\n",
       "      <th>Ativo</th>\n",
       "      <th>Data</th>\n",
       "      <th>valor_final</th>\n",
       "      <th>var_dia_pct</th>\n",
       "      <th>var_pct</th>\n",
       "      <th>valor_inicial</th>\n",
       "    </tr>\n",
       "  </thead>\n",
       "  <tbody>\n",
       "    <tr>\n",
       "      <th>0</th>\n",
       "      <td>USIM5</td>\n",
       "      <td>2024-01-26</td>\n",
       "      <td>9.50</td>\n",
       "      <td>5.20</td>\n",
       "      <td>0.05</td>\n",
       "      <td>9.03</td>\n",
       "    </tr>\n",
       "    <tr>\n",
       "      <th>1</th>\n",
       "      <td>CMIN3</td>\n",
       "      <td>2024-01-26</td>\n",
       "      <td>6.82</td>\n",
       "      <td>2.40</td>\n",
       "      <td>0.02</td>\n",
       "      <td>6.66</td>\n",
       "    </tr>\n",
       "    <tr>\n",
       "      <th>2</th>\n",
       "      <td>PETR3</td>\n",
       "      <td>2024-01-26</td>\n",
       "      <td>41.96</td>\n",
       "      <td>2.19</td>\n",
       "      <td>0.02</td>\n",
       "      <td>41.06</td>\n",
       "    </tr>\n",
       "    <tr>\n",
       "      <th>3</th>\n",
       "      <td>SUZB3</td>\n",
       "      <td>2024-01-26</td>\n",
       "      <td>52.91</td>\n",
       "      <td>2.04</td>\n",
       "      <td>0.02</td>\n",
       "      <td>51.85</td>\n",
       "    </tr>\n",
       "    <tr>\n",
       "      <th>4</th>\n",
       "      <td>CPFE3</td>\n",
       "      <td>2024-01-26</td>\n",
       "      <td>37.10</td>\n",
       "      <td>2.03</td>\n",
       "      <td>0.02</td>\n",
       "      <td>36.36</td>\n",
       "    </tr>\n",
       "  </tbody>\n",
       "</table>\n",
       "</div>"
      ],
      "text/plain": [
       "   Ativo       Data  valor_final  var_dia_pct  var_pct  valor_inicial\n",
       "0  USIM5 2024-01-26         9.50         5.20     0.05           9.03\n",
       "1  CMIN3 2024-01-26         6.82         2.40     0.02           6.66\n",
       "2  PETR3 2024-01-26        41.96         2.19     0.02          41.06\n",
       "3  SUZB3 2024-01-26        52.91         2.04     0.02          51.85\n",
       "4  CPFE3 2024-01-26        37.10         2.03     0.02          36.36"
      ]
     },
     "execution_count": 112,
     "metadata": {},
     "output_type": "execute_result"
    }
   ],
   "source": [
    "main_df.head(5)"
   ]
  },
  {
   "cell_type": "markdown",
   "metadata": {},
   "source": [
    "Extraindo o volume de ações da empresa"
   ]
  },
  {
   "cell_type": "code",
   "execution_count": 113,
   "metadata": {},
   "outputs": [],
   "source": [
    "main_df = main_df.merge(stocks_df, left_on='Ativo', right_on='Código', how='left')"
   ]
  },
  {
   "cell_type": "code",
   "execution_count": 114,
   "metadata": {},
   "outputs": [],
   "source": [
    "main_df = main_df.rename(columns={'Qtde. Teórica': 'qtd_teorica'})"
   ]
  },
  {
   "cell_type": "code",
   "execution_count": 115,
   "metadata": {},
   "outputs": [],
   "source": [
    "main_df['qtd_teorica'] = main_df['qtd_teorica'].astype(np.int64)"
   ]
  },
  {
   "cell_type": "code",
   "execution_count": 116,
   "metadata": {},
   "outputs": [
    {
     "data": {
      "text/html": [
       "<div>\n",
       "<style scoped>\n",
       "    .dataframe tbody tr th:only-of-type {\n",
       "        vertical-align: middle;\n",
       "    }\n",
       "\n",
       "    .dataframe tbody tr th {\n",
       "        vertical-align: top;\n",
       "    }\n",
       "\n",
       "    .dataframe thead th {\n",
       "        text-align: right;\n",
       "    }\n",
       "</style>\n",
       "<table border=\"1\" class=\"dataframe\">\n",
       "  <thead>\n",
       "    <tr style=\"text-align: right;\">\n",
       "      <th></th>\n",
       "      <th>Ativo</th>\n",
       "      <th>Data</th>\n",
       "      <th>valor_final</th>\n",
       "      <th>var_dia_pct</th>\n",
       "      <th>var_pct</th>\n",
       "      <th>valor_inicial</th>\n",
       "      <th>Código</th>\n",
       "      <th>qtd_teorica</th>\n",
       "    </tr>\n",
       "  </thead>\n",
       "  <tbody>\n",
       "    <tr>\n",
       "      <th>0</th>\n",
       "      <td>USIM5</td>\n",
       "      <td>2024-01-26</td>\n",
       "      <td>9.50</td>\n",
       "      <td>5.20</td>\n",
       "      <td>0.05</td>\n",
       "      <td>9.03</td>\n",
       "      <td>USIM5</td>\n",
       "      <td>515117391</td>\n",
       "    </tr>\n",
       "    <tr>\n",
       "      <th>1</th>\n",
       "      <td>CMIN3</td>\n",
       "      <td>2024-01-26</td>\n",
       "      <td>6.82</td>\n",
       "      <td>2.40</td>\n",
       "      <td>0.02</td>\n",
       "      <td>6.66</td>\n",
       "      <td>CMIN3</td>\n",
       "      <td>1110559345</td>\n",
       "    </tr>\n",
       "    <tr>\n",
       "      <th>2</th>\n",
       "      <td>PETR3</td>\n",
       "      <td>2024-01-26</td>\n",
       "      <td>41.96</td>\n",
       "      <td>2.19</td>\n",
       "      <td>0.02</td>\n",
       "      <td>41.06</td>\n",
       "      <td>PETR3</td>\n",
       "      <td>2379877655</td>\n",
       "    </tr>\n",
       "    <tr>\n",
       "      <th>3</th>\n",
       "      <td>SUZB3</td>\n",
       "      <td>2024-01-26</td>\n",
       "      <td>52.91</td>\n",
       "      <td>2.04</td>\n",
       "      <td>0.02</td>\n",
       "      <td>51.85</td>\n",
       "      <td>SUZB3</td>\n",
       "      <td>683452836</td>\n",
       "    </tr>\n",
       "    <tr>\n",
       "      <th>4</th>\n",
       "      <td>CPFE3</td>\n",
       "      <td>2024-01-26</td>\n",
       "      <td>37.10</td>\n",
       "      <td>2.03</td>\n",
       "      <td>0.02</td>\n",
       "      <td>36.36</td>\n",
       "      <td>CPFE3</td>\n",
       "      <td>187732538</td>\n",
       "    </tr>\n",
       "  </tbody>\n",
       "</table>\n",
       "</div>"
      ],
      "text/plain": [
       "   Ativo       Data  valor_final  var_dia_pct  var_pct  valor_inicial Código  \\\n",
       "0  USIM5 2024-01-26         9.50         5.20     0.05           9.03  USIM5   \n",
       "1  CMIN3 2024-01-26         6.82         2.40     0.02           6.66  CMIN3   \n",
       "2  PETR3 2024-01-26        41.96         2.19     0.02          41.06  PETR3   \n",
       "3  SUZB3 2024-01-26        52.91         2.04     0.02          51.85  SUZB3   \n",
       "4  CPFE3 2024-01-26        37.10         2.03     0.02          36.36  CPFE3   \n",
       "\n",
       "   qtd_teorica  \n",
       "0    515117391  \n",
       "1   1110559345  \n",
       "2   2379877655  \n",
       "3    683452836  \n",
       "4    187732538  "
      ]
     },
     "execution_count": 116,
     "metadata": {},
     "output_type": "execute_result"
    }
   ],
   "source": [
    "main_df.head(5)"
   ]
  },
  {
   "cell_type": "code",
   "execution_count": 117,
   "metadata": {},
   "outputs": [
    {
     "data": {
      "text/plain": [
       "Ativo            0\n",
       "Data             0\n",
       "valor_final      0\n",
       "var_dia_pct      0\n",
       "var_pct          0\n",
       "valor_inicial    0\n",
       "Código           0\n",
       "qtd_teorica      0\n",
       "dtype: int64"
      ]
     },
     "execution_count": 117,
     "metadata": {},
     "output_type": "execute_result"
    }
   ],
   "source": [
    "main_df.isna().sum()"
   ]
  },
  {
   "cell_type": "markdown",
   "metadata": {},
   "source": [
    "Removendo coluna duplicada"
   ]
  },
  {
   "cell_type": "code",
   "execution_count": 118,
   "metadata": {},
   "outputs": [],
   "source": [
    "main_df = main_df.drop(columns=['Código']).copy()"
   ]
  },
  {
   "cell_type": "code",
   "execution_count": 119,
   "metadata": {},
   "outputs": [
    {
     "data": {
      "text/html": [
       "<div>\n",
       "<style scoped>\n",
       "    .dataframe tbody tr th:only-of-type {\n",
       "        vertical-align: middle;\n",
       "    }\n",
       "\n",
       "    .dataframe tbody tr th {\n",
       "        vertical-align: top;\n",
       "    }\n",
       "\n",
       "    .dataframe thead th {\n",
       "        text-align: right;\n",
       "    }\n",
       "</style>\n",
       "<table border=\"1\" class=\"dataframe\">\n",
       "  <thead>\n",
       "    <tr style=\"text-align: right;\">\n",
       "      <th></th>\n",
       "      <th>Ativo</th>\n",
       "      <th>Data</th>\n",
       "      <th>valor_final</th>\n",
       "      <th>var_dia_pct</th>\n",
       "      <th>var_pct</th>\n",
       "      <th>valor_inicial</th>\n",
       "      <th>qtd_teorica</th>\n",
       "    </tr>\n",
       "  </thead>\n",
       "  <tbody>\n",
       "    <tr>\n",
       "      <th>0</th>\n",
       "      <td>USIM5</td>\n",
       "      <td>2024-01-26</td>\n",
       "      <td>9.50</td>\n",
       "      <td>5.20</td>\n",
       "      <td>0.05</td>\n",
       "      <td>9.03</td>\n",
       "      <td>515117391</td>\n",
       "    </tr>\n",
       "    <tr>\n",
       "      <th>1</th>\n",
       "      <td>CMIN3</td>\n",
       "      <td>2024-01-26</td>\n",
       "      <td>6.82</td>\n",
       "      <td>2.40</td>\n",
       "      <td>0.02</td>\n",
       "      <td>6.66</td>\n",
       "      <td>1110559345</td>\n",
       "    </tr>\n",
       "    <tr>\n",
       "      <th>2</th>\n",
       "      <td>PETR3</td>\n",
       "      <td>2024-01-26</td>\n",
       "      <td>41.96</td>\n",
       "      <td>2.19</td>\n",
       "      <td>0.02</td>\n",
       "      <td>41.06</td>\n",
       "      <td>2379877655</td>\n",
       "    </tr>\n",
       "    <tr>\n",
       "      <th>3</th>\n",
       "      <td>SUZB3</td>\n",
       "      <td>2024-01-26</td>\n",
       "      <td>52.91</td>\n",
       "      <td>2.04</td>\n",
       "      <td>0.02</td>\n",
       "      <td>51.85</td>\n",
       "      <td>683452836</td>\n",
       "    </tr>\n",
       "    <tr>\n",
       "      <th>4</th>\n",
       "      <td>CPFE3</td>\n",
       "      <td>2024-01-26</td>\n",
       "      <td>37.10</td>\n",
       "      <td>2.03</td>\n",
       "      <td>0.02</td>\n",
       "      <td>36.36</td>\n",
       "      <td>187732538</td>\n",
       "    </tr>\n",
       "  </tbody>\n",
       "</table>\n",
       "</div>"
      ],
      "text/plain": [
       "   Ativo       Data  valor_final  var_dia_pct  var_pct  valor_inicial  \\\n",
       "0  USIM5 2024-01-26         9.50         5.20     0.05           9.03   \n",
       "1  CMIN3 2024-01-26         6.82         2.40     0.02           6.66   \n",
       "2  PETR3 2024-01-26        41.96         2.19     0.02          41.06   \n",
       "3  SUZB3 2024-01-26        52.91         2.04     0.02          51.85   \n",
       "4  CPFE3 2024-01-26        37.10         2.03     0.02          36.36   \n",
       "\n",
       "   qtd_teorica  \n",
       "0    515117391  \n",
       "1   1110559345  \n",
       "2   2379877655  \n",
       "3    683452836  \n",
       "4    187732538  "
      ]
     },
     "execution_count": 119,
     "metadata": {},
     "output_type": "execute_result"
    }
   ],
   "source": [
    "main_df.head(5)"
   ]
  },
  {
   "cell_type": "markdown",
   "metadata": {},
   "source": [
    "Extraindo o total de variação em R$"
   ]
  },
  {
   "cell_type": "code",
   "execution_count": 120,
   "metadata": {},
   "outputs": [],
   "source": [
    "main_df['var_rs'] = (main_df['valor_final'] - main_df['valor_inicial']) * main_df['qtd_teorica']"
   ]
  },
  {
   "cell_type": "code",
   "execution_count": 121,
   "metadata": {},
   "outputs": [
    {
     "data": {
      "text/html": [
       "<div>\n",
       "<style scoped>\n",
       "    .dataframe tbody tr th:only-of-type {\n",
       "        vertical-align: middle;\n",
       "    }\n",
       "\n",
       "    .dataframe tbody tr th {\n",
       "        vertical-align: top;\n",
       "    }\n",
       "\n",
       "    .dataframe thead th {\n",
       "        text-align: right;\n",
       "    }\n",
       "</style>\n",
       "<table border=\"1\" class=\"dataframe\">\n",
       "  <thead>\n",
       "    <tr style=\"text-align: right;\">\n",
       "      <th></th>\n",
       "      <th>Ativo</th>\n",
       "      <th>Data</th>\n",
       "      <th>valor_final</th>\n",
       "      <th>var_dia_pct</th>\n",
       "      <th>var_pct</th>\n",
       "      <th>valor_inicial</th>\n",
       "      <th>qtd_teorica</th>\n",
       "      <th>var_rs</th>\n",
       "    </tr>\n",
       "  </thead>\n",
       "  <tbody>\n",
       "    <tr>\n",
       "      <th>0</th>\n",
       "      <td>USIM5</td>\n",
       "      <td>2024-01-26</td>\n",
       "      <td>9.50</td>\n",
       "      <td>5.20</td>\n",
       "      <td>0.05</td>\n",
       "      <td>9.03</td>\n",
       "      <td>515117391</td>\n",
       "      <td>241889725.43</td>\n",
       "    </tr>\n",
       "    <tr>\n",
       "      <th>1</th>\n",
       "      <td>CMIN3</td>\n",
       "      <td>2024-01-26</td>\n",
       "      <td>6.82</td>\n",
       "      <td>2.40</td>\n",
       "      <td>0.02</td>\n",
       "      <td>6.66</td>\n",
       "      <td>1110559345</td>\n",
       "      <td>177515970.30</td>\n",
       "    </tr>\n",
       "    <tr>\n",
       "      <th>2</th>\n",
       "      <td>PETR3</td>\n",
       "      <td>2024-01-26</td>\n",
       "      <td>41.96</td>\n",
       "      <td>2.19</td>\n",
       "      <td>0.02</td>\n",
       "      <td>41.06</td>\n",
       "      <td>2379877655</td>\n",
       "      <td>2140059393.53</td>\n",
       "    </tr>\n",
       "    <tr>\n",
       "      <th>3</th>\n",
       "      <td>SUZB3</td>\n",
       "      <td>2024-01-26</td>\n",
       "      <td>52.91</td>\n",
       "      <td>2.04</td>\n",
       "      <td>0.02</td>\n",
       "      <td>51.85</td>\n",
       "      <td>683452836</td>\n",
       "      <td>722946282.71</td>\n",
       "    </tr>\n",
       "    <tr>\n",
       "      <th>4</th>\n",
       "      <td>CPFE3</td>\n",
       "      <td>2024-01-26</td>\n",
       "      <td>37.10</td>\n",
       "      <td>2.03</td>\n",
       "      <td>0.02</td>\n",
       "      <td>36.36</td>\n",
       "      <td>187732538</td>\n",
       "      <td>138573955.06</td>\n",
       "    </tr>\n",
       "  </tbody>\n",
       "</table>\n",
       "</div>"
      ],
      "text/plain": [
       "   Ativo       Data  valor_final  var_dia_pct  var_pct  valor_inicial  \\\n",
       "0  USIM5 2024-01-26         9.50         5.20     0.05           9.03   \n",
       "1  CMIN3 2024-01-26         6.82         2.40     0.02           6.66   \n",
       "2  PETR3 2024-01-26        41.96         2.19     0.02          41.06   \n",
       "3  SUZB3 2024-01-26        52.91         2.04     0.02          51.85   \n",
       "4  CPFE3 2024-01-26        37.10         2.03     0.02          36.36   \n",
       "\n",
       "   qtd_teorica        var_rs  \n",
       "0    515117391  241889725.43  \n",
       "1   1110559345  177515970.30  \n",
       "2   2379877655 2140059393.53  \n",
       "3    683452836  722946282.71  \n",
       "4    187732538  138573955.06  "
      ]
     },
     "execution_count": 121,
     "metadata": {},
     "output_type": "execute_result"
    }
   ],
   "source": [
    "main_df.head(5)"
   ]
  },
  {
   "cell_type": "markdown",
   "metadata": {},
   "source": [
    "Classificando a variação em positivo, estável ou negativo"
   ]
  },
  {
   "cell_type": "code",
   "execution_count": 122,
   "metadata": {},
   "outputs": [],
   "source": [
    "main_df['result'] = main_df['var_rs'].apply(lambda x: 'Positivo' if x > 0 else ('Negativo' if x < 0 else 'Estável'))"
   ]
  },
  {
   "cell_type": "code",
   "execution_count": 123,
   "metadata": {},
   "outputs": [
    {
     "data": {
      "text/html": [
       "<div>\n",
       "<style scoped>\n",
       "    .dataframe tbody tr th:only-of-type {\n",
       "        vertical-align: middle;\n",
       "    }\n",
       "\n",
       "    .dataframe tbody tr th {\n",
       "        vertical-align: top;\n",
       "    }\n",
       "\n",
       "    .dataframe thead th {\n",
       "        text-align: right;\n",
       "    }\n",
       "</style>\n",
       "<table border=\"1\" class=\"dataframe\">\n",
       "  <thead>\n",
       "    <tr style=\"text-align: right;\">\n",
       "      <th></th>\n",
       "      <th>Ativo</th>\n",
       "      <th>Data</th>\n",
       "      <th>valor_final</th>\n",
       "      <th>var_dia_pct</th>\n",
       "      <th>var_pct</th>\n",
       "      <th>valor_inicial</th>\n",
       "      <th>qtd_teorica</th>\n",
       "      <th>var_rs</th>\n",
       "      <th>result</th>\n",
       "    </tr>\n",
       "  </thead>\n",
       "  <tbody>\n",
       "    <tr>\n",
       "      <th>0</th>\n",
       "      <td>USIM5</td>\n",
       "      <td>2024-01-26</td>\n",
       "      <td>9.50</td>\n",
       "      <td>5.20</td>\n",
       "      <td>0.05</td>\n",
       "      <td>9.03</td>\n",
       "      <td>515117391</td>\n",
       "      <td>241889725.43</td>\n",
       "      <td>Positivo</td>\n",
       "    </tr>\n",
       "    <tr>\n",
       "      <th>1</th>\n",
       "      <td>CMIN3</td>\n",
       "      <td>2024-01-26</td>\n",
       "      <td>6.82</td>\n",
       "      <td>2.40</td>\n",
       "      <td>0.02</td>\n",
       "      <td>6.66</td>\n",
       "      <td>1110559345</td>\n",
       "      <td>177515970.30</td>\n",
       "      <td>Positivo</td>\n",
       "    </tr>\n",
       "    <tr>\n",
       "      <th>2</th>\n",
       "      <td>PETR3</td>\n",
       "      <td>2024-01-26</td>\n",
       "      <td>41.96</td>\n",
       "      <td>2.19</td>\n",
       "      <td>0.02</td>\n",
       "      <td>41.06</td>\n",
       "      <td>2379877655</td>\n",
       "      <td>2140059393.53</td>\n",
       "      <td>Positivo</td>\n",
       "    </tr>\n",
       "    <tr>\n",
       "      <th>3</th>\n",
       "      <td>SUZB3</td>\n",
       "      <td>2024-01-26</td>\n",
       "      <td>52.91</td>\n",
       "      <td>2.04</td>\n",
       "      <td>0.02</td>\n",
       "      <td>51.85</td>\n",
       "      <td>683452836</td>\n",
       "      <td>722946282.71</td>\n",
       "      <td>Positivo</td>\n",
       "    </tr>\n",
       "    <tr>\n",
       "      <th>4</th>\n",
       "      <td>CPFE3</td>\n",
       "      <td>2024-01-26</td>\n",
       "      <td>37.10</td>\n",
       "      <td>2.03</td>\n",
       "      <td>0.02</td>\n",
       "      <td>36.36</td>\n",
       "      <td>187732538</td>\n",
       "      <td>138573955.06</td>\n",
       "      <td>Positivo</td>\n",
       "    </tr>\n",
       "  </tbody>\n",
       "</table>\n",
       "</div>"
      ],
      "text/plain": [
       "   Ativo       Data  valor_final  var_dia_pct  var_pct  valor_inicial  \\\n",
       "0  USIM5 2024-01-26         9.50         5.20     0.05           9.03   \n",
       "1  CMIN3 2024-01-26         6.82         2.40     0.02           6.66   \n",
       "2  PETR3 2024-01-26        41.96         2.19     0.02          41.06   \n",
       "3  SUZB3 2024-01-26        52.91         2.04     0.02          51.85   \n",
       "4  CPFE3 2024-01-26        37.10         2.03     0.02          36.36   \n",
       "\n",
       "   qtd_teorica        var_rs    result  \n",
       "0    515117391  241889725.43  Positivo  \n",
       "1   1110559345  177515970.30  Positivo  \n",
       "2   2379877655 2140059393.53  Positivo  \n",
       "3    683452836  722946282.71  Positivo  \n",
       "4    187732538  138573955.06  Positivo  "
      ]
     },
     "execution_count": 123,
     "metadata": {},
     "output_type": "execute_result"
    }
   ],
   "source": [
    "main_df.head(5)"
   ]
  },
  {
   "cell_type": "markdown",
   "metadata": {},
   "source": [
    "Adicionando a coluna do nome da empresa"
   ]
  },
  {
   "cell_type": "code",
   "execution_count": 124,
   "metadata": {},
   "outputs": [],
   "source": [
    "main_df = main_df.merge(ticker_df, left_on='Ativo', right_on='Ticker', how='left')\n",
    "main_df = main_df.drop(columns=['Ticker']).copy()"
   ]
  },
  {
   "cell_type": "code",
   "execution_count": 125,
   "metadata": {},
   "outputs": [
    {
     "data": {
      "text/html": [
       "<div>\n",
       "<style scoped>\n",
       "    .dataframe tbody tr th:only-of-type {\n",
       "        vertical-align: middle;\n",
       "    }\n",
       "\n",
       "    .dataframe tbody tr th {\n",
       "        vertical-align: top;\n",
       "    }\n",
       "\n",
       "    .dataframe thead th {\n",
       "        text-align: right;\n",
       "    }\n",
       "</style>\n",
       "<table border=\"1\" class=\"dataframe\">\n",
       "  <thead>\n",
       "    <tr style=\"text-align: right;\">\n",
       "      <th></th>\n",
       "      <th>Ativo</th>\n",
       "      <th>Data</th>\n",
       "      <th>valor_final</th>\n",
       "      <th>var_dia_pct</th>\n",
       "      <th>var_pct</th>\n",
       "      <th>valor_inicial</th>\n",
       "      <th>qtd_teorica</th>\n",
       "      <th>var_rs</th>\n",
       "      <th>result</th>\n",
       "      <th>Nome</th>\n",
       "    </tr>\n",
       "  </thead>\n",
       "  <tbody>\n",
       "    <tr>\n",
       "      <th>0</th>\n",
       "      <td>USIM5</td>\n",
       "      <td>2024-01-26</td>\n",
       "      <td>9.50</td>\n",
       "      <td>5.20</td>\n",
       "      <td>0.05</td>\n",
       "      <td>9.03</td>\n",
       "      <td>515117391</td>\n",
       "      <td>241889725.43</td>\n",
       "      <td>Positivo</td>\n",
       "      <td>Usiminas</td>\n",
       "    </tr>\n",
       "    <tr>\n",
       "      <th>1</th>\n",
       "      <td>CMIN3</td>\n",
       "      <td>2024-01-26</td>\n",
       "      <td>6.82</td>\n",
       "      <td>2.40</td>\n",
       "      <td>0.02</td>\n",
       "      <td>6.66</td>\n",
       "      <td>1110559345</td>\n",
       "      <td>177515970.30</td>\n",
       "      <td>Positivo</td>\n",
       "      <td>CSN Mineração</td>\n",
       "    </tr>\n",
       "    <tr>\n",
       "      <th>2</th>\n",
       "      <td>PETR3</td>\n",
       "      <td>2024-01-26</td>\n",
       "      <td>41.96</td>\n",
       "      <td>2.19</td>\n",
       "      <td>0.02</td>\n",
       "      <td>41.06</td>\n",
       "      <td>2379877655</td>\n",
       "      <td>2140059393.53</td>\n",
       "      <td>Positivo</td>\n",
       "      <td>Petrobras</td>\n",
       "    </tr>\n",
       "    <tr>\n",
       "      <th>3</th>\n",
       "      <td>SUZB3</td>\n",
       "      <td>2024-01-26</td>\n",
       "      <td>52.91</td>\n",
       "      <td>2.04</td>\n",
       "      <td>0.02</td>\n",
       "      <td>51.85</td>\n",
       "      <td>683452836</td>\n",
       "      <td>722946282.71</td>\n",
       "      <td>Positivo</td>\n",
       "      <td>Suzano</td>\n",
       "    </tr>\n",
       "    <tr>\n",
       "      <th>4</th>\n",
       "      <td>CPFE3</td>\n",
       "      <td>2024-01-26</td>\n",
       "      <td>37.10</td>\n",
       "      <td>2.03</td>\n",
       "      <td>0.02</td>\n",
       "      <td>36.36</td>\n",
       "      <td>187732538</td>\n",
       "      <td>138573955.06</td>\n",
       "      <td>Positivo</td>\n",
       "      <td>CPFL Energia</td>\n",
       "    </tr>\n",
       "  </tbody>\n",
       "</table>\n",
       "</div>"
      ],
      "text/plain": [
       "   Ativo       Data  valor_final  var_dia_pct  var_pct  valor_inicial  \\\n",
       "0  USIM5 2024-01-26         9.50         5.20     0.05           9.03   \n",
       "1  CMIN3 2024-01-26         6.82         2.40     0.02           6.66   \n",
       "2  PETR3 2024-01-26        41.96         2.19     0.02          41.06   \n",
       "3  SUZB3 2024-01-26        52.91         2.04     0.02          51.85   \n",
       "4  CPFE3 2024-01-26        37.10         2.03     0.02          36.36   \n",
       "\n",
       "   qtd_teorica        var_rs    result           Nome  \n",
       "0    515117391  241889725.43  Positivo       Usiminas  \n",
       "1   1110559345  177515970.30  Positivo  CSN Mineração  \n",
       "2   2379877655 2140059393.53  Positivo      Petrobras  \n",
       "3    683452836  722946282.71  Positivo         Suzano  \n",
       "4    187732538  138573955.06  Positivo   CPFL Energia  "
      ]
     },
     "execution_count": 125,
     "metadata": {},
     "output_type": "execute_result"
    }
   ],
   "source": [
    "main_df.head(5)"
   ]
  },
  {
   "cell_type": "markdown",
   "metadata": {},
   "source": [
    "Adicionando o segmento e idade da empresa"
   ]
  },
  {
   "cell_type": "code",
   "execution_count": 126,
   "metadata": {},
   "outputs": [],
   "source": [
    "main_df = main_df.merge(chatgpt_df, left_on='Nome', right_on='Nome da Empresa', how='left')\n",
    "main_df = main_df.drop(columns=['Nome da Empresa']).copy()"
   ]
  },
  {
   "cell_type": "code",
   "execution_count": 127,
   "metadata": {},
   "outputs": [
    {
     "data": {
      "text/html": [
       "<div>\n",
       "<style scoped>\n",
       "    .dataframe tbody tr th:only-of-type {\n",
       "        vertical-align: middle;\n",
       "    }\n",
       "\n",
       "    .dataframe tbody tr th {\n",
       "        vertical-align: top;\n",
       "    }\n",
       "\n",
       "    .dataframe thead th {\n",
       "        text-align: right;\n",
       "    }\n",
       "</style>\n",
       "<table border=\"1\" class=\"dataframe\">\n",
       "  <thead>\n",
       "    <tr style=\"text-align: right;\">\n",
       "      <th></th>\n",
       "      <th>Ativo</th>\n",
       "      <th>Data</th>\n",
       "      <th>valor_final</th>\n",
       "      <th>var_dia_pct</th>\n",
       "      <th>var_pct</th>\n",
       "      <th>valor_inicial</th>\n",
       "      <th>qtd_teorica</th>\n",
       "      <th>var_rs</th>\n",
       "      <th>result</th>\n",
       "      <th>Nome</th>\n",
       "      <th>Segmento</th>\n",
       "      <th>Idade</th>\n",
       "    </tr>\n",
       "  </thead>\n",
       "  <tbody>\n",
       "    <tr>\n",
       "      <th>0</th>\n",
       "      <td>USIM5</td>\n",
       "      <td>2024-01-26</td>\n",
       "      <td>9.50</td>\n",
       "      <td>5.20</td>\n",
       "      <td>0.05</td>\n",
       "      <td>9.03</td>\n",
       "      <td>515117391</td>\n",
       "      <td>241889725.43</td>\n",
       "      <td>Positivo</td>\n",
       "      <td>Usiminas</td>\n",
       "      <td>Siderurgia</td>\n",
       "      <td>59</td>\n",
       "    </tr>\n",
       "    <tr>\n",
       "      <th>1</th>\n",
       "      <td>CMIN3</td>\n",
       "      <td>2024-01-26</td>\n",
       "      <td>6.82</td>\n",
       "      <td>2.40</td>\n",
       "      <td>0.02</td>\n",
       "      <td>6.66</td>\n",
       "      <td>1110559345</td>\n",
       "      <td>177515970.30</td>\n",
       "      <td>Positivo</td>\n",
       "      <td>CSN Mineração</td>\n",
       "      <td>Mineração</td>\n",
       "      <td>64</td>\n",
       "    </tr>\n",
       "    <tr>\n",
       "      <th>2</th>\n",
       "      <td>PETR3</td>\n",
       "      <td>2024-01-26</td>\n",
       "      <td>41.96</td>\n",
       "      <td>2.19</td>\n",
       "      <td>0.02</td>\n",
       "      <td>41.06</td>\n",
       "      <td>2379877655</td>\n",
       "      <td>2140059393.53</td>\n",
       "      <td>Positivo</td>\n",
       "      <td>Petrobras</td>\n",
       "      <td>Petróleo e Gás</td>\n",
       "      <td>69</td>\n",
       "    </tr>\n",
       "    <tr>\n",
       "      <th>3</th>\n",
       "      <td>PETR3</td>\n",
       "      <td>2024-01-26</td>\n",
       "      <td>41.96</td>\n",
       "      <td>2.19</td>\n",
       "      <td>0.02</td>\n",
       "      <td>41.06</td>\n",
       "      <td>2379877655</td>\n",
       "      <td>2140059393.53</td>\n",
       "      <td>Positivo</td>\n",
       "      <td>Petrobras</td>\n",
       "      <td>Petróleo e Gás</td>\n",
       "      <td>69</td>\n",
       "    </tr>\n",
       "    <tr>\n",
       "      <th>4</th>\n",
       "      <td>SUZB3</td>\n",
       "      <td>2024-01-26</td>\n",
       "      <td>52.91</td>\n",
       "      <td>2.04</td>\n",
       "      <td>0.02</td>\n",
       "      <td>51.85</td>\n",
       "      <td>683452836</td>\n",
       "      <td>722946282.71</td>\n",
       "      <td>Positivo</td>\n",
       "      <td>Suzano</td>\n",
       "      <td>Papel e Celulose</td>\n",
       "      <td>98</td>\n",
       "    </tr>\n",
       "  </tbody>\n",
       "</table>\n",
       "</div>"
      ],
      "text/plain": [
       "   Ativo       Data  valor_final  var_dia_pct  var_pct  valor_inicial  \\\n",
       "0  USIM5 2024-01-26         9.50         5.20     0.05           9.03   \n",
       "1  CMIN3 2024-01-26         6.82         2.40     0.02           6.66   \n",
       "2  PETR3 2024-01-26        41.96         2.19     0.02          41.06   \n",
       "3  PETR3 2024-01-26        41.96         2.19     0.02          41.06   \n",
       "4  SUZB3 2024-01-26        52.91         2.04     0.02          51.85   \n",
       "\n",
       "   qtd_teorica        var_rs    result           Nome          Segmento  Idade  \n",
       "0    515117391  241889725.43  Positivo       Usiminas        Siderurgia     59  \n",
       "1   1110559345  177515970.30  Positivo  CSN Mineração         Mineração     64  \n",
       "2   2379877655 2140059393.53  Positivo      Petrobras    Petróleo e Gás     69  \n",
       "3   2379877655 2140059393.53  Positivo      Petrobras    Petróleo e Gás     69  \n",
       "4    683452836  722946282.71  Positivo         Suzano  Papel e Celulose     98  "
      ]
     },
     "execution_count": 127,
     "metadata": {},
     "output_type": "execute_result"
    }
   ],
   "source": [
    "main_df.head(5)"
   ]
  },
  {
   "cell_type": "markdown",
   "metadata": {},
   "source": [
    "Adicionando o ano de fundação da empresa"
   ]
  },
  {
   "cell_type": "code",
   "execution_count": 128,
   "metadata": {},
   "outputs": [],
   "source": [
    "# as informações de idade foram geradas pelo ChatGPT 3.5, portanto a interpretação de seus dados \n",
    "# são limitados até o ano de 2021.\n",
    "main_df['ano_de_fundacao'] = 2021 - main_df['Idade']"
   ]
  },
  {
   "cell_type": "code",
   "execution_count": 129,
   "metadata": {},
   "outputs": [
    {
     "data": {
      "text/html": [
       "<div>\n",
       "<style scoped>\n",
       "    .dataframe tbody tr th:only-of-type {\n",
       "        vertical-align: middle;\n",
       "    }\n",
       "\n",
       "    .dataframe tbody tr th {\n",
       "        vertical-align: top;\n",
       "    }\n",
       "\n",
       "    .dataframe thead th {\n",
       "        text-align: right;\n",
       "    }\n",
       "</style>\n",
       "<table border=\"1\" class=\"dataframe\">\n",
       "  <thead>\n",
       "    <tr style=\"text-align: right;\">\n",
       "      <th></th>\n",
       "      <th>Ativo</th>\n",
       "      <th>Data</th>\n",
       "      <th>valor_final</th>\n",
       "      <th>var_dia_pct</th>\n",
       "      <th>var_pct</th>\n",
       "      <th>valor_inicial</th>\n",
       "      <th>qtd_teorica</th>\n",
       "      <th>var_rs</th>\n",
       "      <th>result</th>\n",
       "      <th>Nome</th>\n",
       "      <th>Segmento</th>\n",
       "      <th>Idade</th>\n",
       "      <th>ano_de_fundacao</th>\n",
       "    </tr>\n",
       "  </thead>\n",
       "  <tbody>\n",
       "    <tr>\n",
       "      <th>0</th>\n",
       "      <td>USIM5</td>\n",
       "      <td>2024-01-26</td>\n",
       "      <td>9.50</td>\n",
       "      <td>5.20</td>\n",
       "      <td>0.05</td>\n",
       "      <td>9.03</td>\n",
       "      <td>515117391</td>\n",
       "      <td>241889725.43</td>\n",
       "      <td>Positivo</td>\n",
       "      <td>Usiminas</td>\n",
       "      <td>Siderurgia</td>\n",
       "      <td>59</td>\n",
       "      <td>1962</td>\n",
       "    </tr>\n",
       "    <tr>\n",
       "      <th>1</th>\n",
       "      <td>CMIN3</td>\n",
       "      <td>2024-01-26</td>\n",
       "      <td>6.82</td>\n",
       "      <td>2.40</td>\n",
       "      <td>0.02</td>\n",
       "      <td>6.66</td>\n",
       "      <td>1110559345</td>\n",
       "      <td>177515970.30</td>\n",
       "      <td>Positivo</td>\n",
       "      <td>CSN Mineração</td>\n",
       "      <td>Mineração</td>\n",
       "      <td>64</td>\n",
       "      <td>1957</td>\n",
       "    </tr>\n",
       "    <tr>\n",
       "      <th>2</th>\n",
       "      <td>PETR3</td>\n",
       "      <td>2024-01-26</td>\n",
       "      <td>41.96</td>\n",
       "      <td>2.19</td>\n",
       "      <td>0.02</td>\n",
       "      <td>41.06</td>\n",
       "      <td>2379877655</td>\n",
       "      <td>2140059393.53</td>\n",
       "      <td>Positivo</td>\n",
       "      <td>Petrobras</td>\n",
       "      <td>Petróleo e Gás</td>\n",
       "      <td>69</td>\n",
       "      <td>1952</td>\n",
       "    </tr>\n",
       "    <tr>\n",
       "      <th>3</th>\n",
       "      <td>PETR3</td>\n",
       "      <td>2024-01-26</td>\n",
       "      <td>41.96</td>\n",
       "      <td>2.19</td>\n",
       "      <td>0.02</td>\n",
       "      <td>41.06</td>\n",
       "      <td>2379877655</td>\n",
       "      <td>2140059393.53</td>\n",
       "      <td>Positivo</td>\n",
       "      <td>Petrobras</td>\n",
       "      <td>Petróleo e Gás</td>\n",
       "      <td>69</td>\n",
       "      <td>1952</td>\n",
       "    </tr>\n",
       "    <tr>\n",
       "      <th>4</th>\n",
       "      <td>SUZB3</td>\n",
       "      <td>2024-01-26</td>\n",
       "      <td>52.91</td>\n",
       "      <td>2.04</td>\n",
       "      <td>0.02</td>\n",
       "      <td>51.85</td>\n",
       "      <td>683452836</td>\n",
       "      <td>722946282.71</td>\n",
       "      <td>Positivo</td>\n",
       "      <td>Suzano</td>\n",
       "      <td>Papel e Celulose</td>\n",
       "      <td>98</td>\n",
       "      <td>1923</td>\n",
       "    </tr>\n",
       "  </tbody>\n",
       "</table>\n",
       "</div>"
      ],
      "text/plain": [
       "   Ativo       Data  valor_final  var_dia_pct  var_pct  valor_inicial  \\\n",
       "0  USIM5 2024-01-26         9.50         5.20     0.05           9.03   \n",
       "1  CMIN3 2024-01-26         6.82         2.40     0.02           6.66   \n",
       "2  PETR3 2024-01-26        41.96         2.19     0.02          41.06   \n",
       "3  PETR3 2024-01-26        41.96         2.19     0.02          41.06   \n",
       "4  SUZB3 2024-01-26        52.91         2.04     0.02          51.85   \n",
       "\n",
       "   qtd_teorica        var_rs    result           Nome          Segmento  \\\n",
       "0    515117391  241889725.43  Positivo       Usiminas        Siderurgia   \n",
       "1   1110559345  177515970.30  Positivo  CSN Mineração         Mineração   \n",
       "2   2379877655 2140059393.53  Positivo      Petrobras    Petróleo e Gás   \n",
       "3   2379877655 2140059393.53  Positivo      Petrobras    Petróleo e Gás   \n",
       "4    683452836  722946282.71  Positivo         Suzano  Papel e Celulose   \n",
       "\n",
       "   Idade  ano_de_fundacao  \n",
       "0     59             1962  \n",
       "1     64             1957  \n",
       "2     69             1952  \n",
       "3     69             1952  \n",
       "4     98             1923  "
      ]
     },
     "execution_count": 129,
     "metadata": {},
     "output_type": "execute_result"
    }
   ],
   "source": [
    "main_df.head(5)"
   ]
  },
  {
   "cell_type": "markdown",
   "metadata": {},
   "source": [
    "Adicionando a faixa etária da empresa entre: maior que 100 anos, entre 50 e 100 anos e menor que 50 anos."
   ]
  },
  {
   "cell_type": "code",
   "execution_count": 130,
   "metadata": {},
   "outputs": [],
   "source": [
    "main_df['faixa_etaria'] = main_df['Idade'].apply(lambda x: '>100' if x > 100 else ('<50' if x < 50 else '50-100'))"
   ]
  },
  {
   "cell_type": "code",
   "execution_count": 131,
   "metadata": {},
   "outputs": [
    {
     "data": {
      "text/html": [
       "<div>\n",
       "<style scoped>\n",
       "    .dataframe tbody tr th:only-of-type {\n",
       "        vertical-align: middle;\n",
       "    }\n",
       "\n",
       "    .dataframe tbody tr th {\n",
       "        vertical-align: top;\n",
       "    }\n",
       "\n",
       "    .dataframe thead th {\n",
       "        text-align: right;\n",
       "    }\n",
       "</style>\n",
       "<table border=\"1\" class=\"dataframe\">\n",
       "  <thead>\n",
       "    <tr style=\"text-align: right;\">\n",
       "      <th></th>\n",
       "      <th>Nome</th>\n",
       "      <th>Idade</th>\n",
       "      <th>faixa_etaria</th>\n",
       "    </tr>\n",
       "  </thead>\n",
       "  <tbody>\n",
       "    <tr>\n",
       "      <th>0</th>\n",
       "      <td>Usiminas</td>\n",
       "      <td>59</td>\n",
       "      <td>50-100</td>\n",
       "    </tr>\n",
       "    <tr>\n",
       "      <th>1</th>\n",
       "      <td>CSN Mineração</td>\n",
       "      <td>64</td>\n",
       "      <td>50-100</td>\n",
       "    </tr>\n",
       "    <tr>\n",
       "      <th>2</th>\n",
       "      <td>Petrobras</td>\n",
       "      <td>69</td>\n",
       "      <td>50-100</td>\n",
       "    </tr>\n",
       "    <tr>\n",
       "      <th>3</th>\n",
       "      <td>Petrobras</td>\n",
       "      <td>69</td>\n",
       "      <td>50-100</td>\n",
       "    </tr>\n",
       "    <tr>\n",
       "      <th>4</th>\n",
       "      <td>Suzano</td>\n",
       "      <td>98</td>\n",
       "      <td>50-100</td>\n",
       "    </tr>\n",
       "    <tr>\n",
       "      <th>5</th>\n",
       "      <td>CPFL Energia</td>\n",
       "      <td>108</td>\n",
       "      <td>&gt;100</td>\n",
       "    </tr>\n",
       "    <tr>\n",
       "      <th>6</th>\n",
       "      <td>PetroRio</td>\n",
       "      <td>13</td>\n",
       "      <td>&lt;50</td>\n",
       "    </tr>\n",
       "    <tr>\n",
       "      <th>7</th>\n",
       "      <td>Petrobras</td>\n",
       "      <td>69</td>\n",
       "      <td>50-100</td>\n",
       "    </tr>\n",
       "    <tr>\n",
       "      <th>8</th>\n",
       "      <td>Petrobras</td>\n",
       "      <td>69</td>\n",
       "      <td>50-100</td>\n",
       "    </tr>\n",
       "    <tr>\n",
       "      <th>9</th>\n",
       "      <td>Vale</td>\n",
       "      <td>80</td>\n",
       "      <td>50-100</td>\n",
       "    </tr>\n",
       "    <tr>\n",
       "      <th>10</th>\n",
       "      <td>Multiplan</td>\n",
       "      <td>48</td>\n",
       "      <td>&lt;50</td>\n",
       "    </tr>\n",
       "    <tr>\n",
       "      <th>11</th>\n",
       "      <td>Itaú Unibanco</td>\n",
       "      <td>97</td>\n",
       "      <td>50-100</td>\n",
       "    </tr>\n",
       "    <tr>\n",
       "      <th>12</th>\n",
       "      <td>Rede D'Or</td>\n",
       "      <td>47</td>\n",
       "      <td>&lt;50</td>\n",
       "    </tr>\n",
       "    <tr>\n",
       "      <th>13</th>\n",
       "      <td>Braskem</td>\n",
       "      <td>20</td>\n",
       "      <td>&lt;50</td>\n",
       "    </tr>\n",
       "    <tr>\n",
       "      <th>14</th>\n",
       "      <td>Azul</td>\n",
       "      <td>15</td>\n",
       "      <td>&lt;50</td>\n",
       "    </tr>\n",
       "  </tbody>\n",
       "</table>\n",
       "</div>"
      ],
      "text/plain": [
       "             Nome  Idade faixa_etaria\n",
       "0        Usiminas     59       50-100\n",
       "1   CSN Mineração     64       50-100\n",
       "2       Petrobras     69       50-100\n",
       "3       Petrobras     69       50-100\n",
       "4          Suzano     98       50-100\n",
       "5    CPFL Energia    108         >100\n",
       "6        PetroRio     13          <50\n",
       "7       Petrobras     69       50-100\n",
       "8       Petrobras     69       50-100\n",
       "9            Vale     80       50-100\n",
       "10      Multiplan     48          <50\n",
       "11  Itaú Unibanco     97       50-100\n",
       "12      Rede D'Or     47          <50\n",
       "13        Braskem     20          <50\n",
       "14           Azul     15          <50"
      ]
     },
     "execution_count": 131,
     "metadata": {},
     "output_type": "execute_result"
    }
   ],
   "source": [
    "main_df[['Nome', 'Idade', 'faixa_etaria']].head(15)"
   ]
  },
  {
   "cell_type": "markdown",
   "metadata": {},
   "source": [
    "### Análises"
   ]
  },
  {
   "cell_type": "code",
   "execution_count": 132,
   "metadata": {},
   "outputs": [
    {
     "name": "stdout",
     "output_type": "stream",
     "text": [
      "Maior\tR$ 4,762,926,995.25\n",
      "Menor\tR$ -1,807,432,634.46\n",
      "Média\tR$ 229,644,360.94\n",
      "Média Positivo\tR$ 538,720,638.36\n",
      "Média Negativo\tR$ -181,109,141.75\n"
     ]
    }
   ],
   "source": [
    "maior = main_df['var_rs'].max()\n",
    "menor = main_df['var_rs'].min()\n",
    "media = main_df['var_rs'].mean()\n",
    "media_positivo = main_df[main_df['result'] == 'Positivo']['var_rs'].mean()\n",
    "media_negativo = main_df[main_df['result'] == 'Negativo']['var_rs'].mean()\n",
    "\n",
    "print(f\"Maior\\tR$ {maior:,.2f}\")\n",
    "print(f\"Menor\\tR$ {menor:,.2f}\")\n",
    "print(f\"Média\\tR$ {media:,.2f}\")\n",
    "print(f\"Média Positivo\\tR$ {media_positivo:,.2f}\")\n",
    "print(f\"Média Negativo\\tR$ {media_negativo:,.2f}\")"
   ]
  },
  {
   "cell_type": "code",
   "execution_count": 133,
   "metadata": {},
   "outputs": [
    {
     "name": "stdout",
     "output_type": "stream",
     "text": [
      "Positivo: 48\n",
      "Negativo: 35\n",
      "Estável: 2\n"
     ]
    }
   ],
   "source": [
    "qtd_positivo = main_df[main_df['result'] == 'Positivo'].shape[0]\n",
    "qtd_negativo = main_df[main_df['result'] == 'Negativo'].shape[0]\n",
    "qtd_estavel = main_df[main_df['result'] == 'Estável'].shape[0]\n",
    "\n",
    "print(f\"Positivo: {qtd_positivo}\")\n",
    "print(f\"Negativo: {qtd_negativo}\")\n",
    "print(f\"Estável: {qtd_estavel}\")"
   ]
  },
  {
   "cell_type": "code",
   "execution_count": 134,
   "metadata": {},
   "outputs": [],
   "source": [
    "segmento_df = main_df.groupby(['Segmento'])['var_rs'].sum().reset_index()\n",
    "# segmento_df"
   ]
  },
  {
   "cell_type": "code",
   "execution_count": 135,
   "metadata": {},
   "outputs": [
    {
     "data": {
      "text/html": [
       "<div>\n",
       "<style scoped>\n",
       "    .dataframe tbody tr th:only-of-type {\n",
       "        vertical-align: middle;\n",
       "    }\n",
       "\n",
       "    .dataframe tbody tr th {\n",
       "        vertical-align: top;\n",
       "    }\n",
       "\n",
       "    .dataframe thead th {\n",
       "        text-align: right;\n",
       "    }\n",
       "</style>\n",
       "<table border=\"1\" class=\"dataframe\">\n",
       "  <thead>\n",
       "    <tr style=\"text-align: right;\">\n",
       "      <th></th>\n",
       "      <th>result</th>\n",
       "      <th>var_rs</th>\n",
       "    </tr>\n",
       "  </thead>\n",
       "  <tbody>\n",
       "    <tr>\n",
       "      <th>0</th>\n",
       "      <td>Estável</td>\n",
       "      <td>0.00</td>\n",
       "    </tr>\n",
       "    <tr>\n",
       "      <th>1</th>\n",
       "      <td>Negativo</td>\n",
       "      <td>-6338819961.32</td>\n",
       "    </tr>\n",
       "    <tr>\n",
       "      <th>2</th>\n",
       "      <td>Positivo</td>\n",
       "      <td>25858590641.35</td>\n",
       "    </tr>\n",
       "  </tbody>\n",
       "</table>\n",
       "</div>"
      ],
      "text/plain": [
       "     result         var_rs\n",
       "0   Estável           0.00\n",
       "1  Negativo -6338819961.32\n",
       "2  Positivo 25858590641.35"
      ]
     },
     "execution_count": 135,
     "metadata": {},
     "output_type": "execute_result"
    }
   ],
   "source": [
    "saldo_df = main_df.groupby('result')['var_rs'].sum().reset_index()\n",
    "saldo_df"
   ]
  },
  {
   "cell_type": "markdown",
   "metadata": {},
   "source": [
    "### Visualização dos Dados"
   ]
  },
  {
   "cell_type": "markdown",
   "metadata": {},
   "source": [
    "#### Variação em R$ por resultado"
   ]
  },
  {
   "cell_type": "code",
   "execution_count": 136,
   "metadata": {},
   "outputs": [
    {
     "data": {
      "application/vnd.plotly.v1+json": {
       "config": {
        "plotlyServerURL": "https://plot.ly"
       },
       "data": [
        {
         "alignmentgroup": "True",
         "hovertemplate": "result=%{x}<br>var_rs=%{y}<br>formatted_var_rs=%{text}<extra></extra>",
         "legendgroup": "Estável",
         "marker": {
          "color": "#636efa",
          "pattern": {
           "shape": ""
          }
         },
         "name": "Estável",
         "offsetgroup": "Estável",
         "orientation": "v",
         "showlegend": true,
         "text": [
          "R$ 0.00"
         ],
         "textposition": "auto",
         "type": "bar",
         "x": [
          "Estável"
         ],
         "xaxis": "x",
         "y": [
          0
         ],
         "yaxis": "y"
        },
        {
         "alignmentgroup": "True",
         "hovertemplate": "result=%{x}<br>var_rs=%{y}<br>formatted_var_rs=%{text}<extra></extra>",
         "legendgroup": "Negativo",
         "marker": {
          "color": "#EF553B",
          "pattern": {
           "shape": ""
          }
         },
         "name": "Negativo",
         "offsetgroup": "Negativo",
         "orientation": "v",
         "showlegend": true,
         "text": [
          "R$ -6.338.819.961.32"
         ],
         "textposition": "auto",
         "type": "bar",
         "x": [
          "Negativo"
         ],
         "xaxis": "x",
         "y": [
          -6338819961.31535
         ],
         "yaxis": "y"
        },
        {
         "alignmentgroup": "True",
         "hovertemplate": "result=%{x}<br>var_rs=%{y}<br>formatted_var_rs=%{text}<extra></extra>",
         "legendgroup": "Positivo",
         "marker": {
          "color": "#00cc96",
          "pattern": {
           "shape": ""
          }
         },
         "name": "Positivo",
         "offsetgroup": "Positivo",
         "orientation": "v",
         "showlegend": true,
         "text": [
          "R$ 25.858.590.641.35"
         ],
         "textposition": "auto",
         "type": "bar",
         "x": [
          "Positivo"
         ],
         "xaxis": "x",
         "y": [
          25858590641.34758
         ],
         "yaxis": "y"
        }
       ],
       "layout": {
        "barmode": "relative",
        "legend": {
         "title": {
          "text": "result"
         },
         "tracegroupgap": 0
        },
        "template": {
         "data": {
          "bar": [
           {
            "error_x": {
             "color": "#2a3f5f"
            },
            "error_y": {
             "color": "#2a3f5f"
            },
            "marker": {
             "line": {
              "color": "#E5ECF6",
              "width": 0.5
             },
             "pattern": {
              "fillmode": "overlay",
              "size": 10,
              "solidity": 0.2
             }
            },
            "type": "bar"
           }
          ],
          "barpolar": [
           {
            "marker": {
             "line": {
              "color": "#E5ECF6",
              "width": 0.5
             },
             "pattern": {
              "fillmode": "overlay",
              "size": 10,
              "solidity": 0.2
             }
            },
            "type": "barpolar"
           }
          ],
          "carpet": [
           {
            "aaxis": {
             "endlinecolor": "#2a3f5f",
             "gridcolor": "white",
             "linecolor": "white",
             "minorgridcolor": "white",
             "startlinecolor": "#2a3f5f"
            },
            "baxis": {
             "endlinecolor": "#2a3f5f",
             "gridcolor": "white",
             "linecolor": "white",
             "minorgridcolor": "white",
             "startlinecolor": "#2a3f5f"
            },
            "type": "carpet"
           }
          ],
          "choropleth": [
           {
            "colorbar": {
             "outlinewidth": 0,
             "ticks": ""
            },
            "type": "choropleth"
           }
          ],
          "contour": [
           {
            "colorbar": {
             "outlinewidth": 0,
             "ticks": ""
            },
            "colorscale": [
             [
              0,
              "#0d0887"
             ],
             [
              0.1111111111111111,
              "#46039f"
             ],
             [
              0.2222222222222222,
              "#7201a8"
             ],
             [
              0.3333333333333333,
              "#9c179e"
             ],
             [
              0.4444444444444444,
              "#bd3786"
             ],
             [
              0.5555555555555556,
              "#d8576b"
             ],
             [
              0.6666666666666666,
              "#ed7953"
             ],
             [
              0.7777777777777778,
              "#fb9f3a"
             ],
             [
              0.8888888888888888,
              "#fdca26"
             ],
             [
              1,
              "#f0f921"
             ]
            ],
            "type": "contour"
           }
          ],
          "contourcarpet": [
           {
            "colorbar": {
             "outlinewidth": 0,
             "ticks": ""
            },
            "type": "contourcarpet"
           }
          ],
          "heatmap": [
           {
            "colorbar": {
             "outlinewidth": 0,
             "ticks": ""
            },
            "colorscale": [
             [
              0,
              "#0d0887"
             ],
             [
              0.1111111111111111,
              "#46039f"
             ],
             [
              0.2222222222222222,
              "#7201a8"
             ],
             [
              0.3333333333333333,
              "#9c179e"
             ],
             [
              0.4444444444444444,
              "#bd3786"
             ],
             [
              0.5555555555555556,
              "#d8576b"
             ],
             [
              0.6666666666666666,
              "#ed7953"
             ],
             [
              0.7777777777777778,
              "#fb9f3a"
             ],
             [
              0.8888888888888888,
              "#fdca26"
             ],
             [
              1,
              "#f0f921"
             ]
            ],
            "type": "heatmap"
           }
          ],
          "heatmapgl": [
           {
            "colorbar": {
             "outlinewidth": 0,
             "ticks": ""
            },
            "colorscale": [
             [
              0,
              "#0d0887"
             ],
             [
              0.1111111111111111,
              "#46039f"
             ],
             [
              0.2222222222222222,
              "#7201a8"
             ],
             [
              0.3333333333333333,
              "#9c179e"
             ],
             [
              0.4444444444444444,
              "#bd3786"
             ],
             [
              0.5555555555555556,
              "#d8576b"
             ],
             [
              0.6666666666666666,
              "#ed7953"
             ],
             [
              0.7777777777777778,
              "#fb9f3a"
             ],
             [
              0.8888888888888888,
              "#fdca26"
             ],
             [
              1,
              "#f0f921"
             ]
            ],
            "type": "heatmapgl"
           }
          ],
          "histogram": [
           {
            "marker": {
             "pattern": {
              "fillmode": "overlay",
              "size": 10,
              "solidity": 0.2
             }
            },
            "type": "histogram"
           }
          ],
          "histogram2d": [
           {
            "colorbar": {
             "outlinewidth": 0,
             "ticks": ""
            },
            "colorscale": [
             [
              0,
              "#0d0887"
             ],
             [
              0.1111111111111111,
              "#46039f"
             ],
             [
              0.2222222222222222,
              "#7201a8"
             ],
             [
              0.3333333333333333,
              "#9c179e"
             ],
             [
              0.4444444444444444,
              "#bd3786"
             ],
             [
              0.5555555555555556,
              "#d8576b"
             ],
             [
              0.6666666666666666,
              "#ed7953"
             ],
             [
              0.7777777777777778,
              "#fb9f3a"
             ],
             [
              0.8888888888888888,
              "#fdca26"
             ],
             [
              1,
              "#f0f921"
             ]
            ],
            "type": "histogram2d"
           }
          ],
          "histogram2dcontour": [
           {
            "colorbar": {
             "outlinewidth": 0,
             "ticks": ""
            },
            "colorscale": [
             [
              0,
              "#0d0887"
             ],
             [
              0.1111111111111111,
              "#46039f"
             ],
             [
              0.2222222222222222,
              "#7201a8"
             ],
             [
              0.3333333333333333,
              "#9c179e"
             ],
             [
              0.4444444444444444,
              "#bd3786"
             ],
             [
              0.5555555555555556,
              "#d8576b"
             ],
             [
              0.6666666666666666,
              "#ed7953"
             ],
             [
              0.7777777777777778,
              "#fb9f3a"
             ],
             [
              0.8888888888888888,
              "#fdca26"
             ],
             [
              1,
              "#f0f921"
             ]
            ],
            "type": "histogram2dcontour"
           }
          ],
          "mesh3d": [
           {
            "colorbar": {
             "outlinewidth": 0,
             "ticks": ""
            },
            "type": "mesh3d"
           }
          ],
          "parcoords": [
           {
            "line": {
             "colorbar": {
              "outlinewidth": 0,
              "ticks": ""
             }
            },
            "type": "parcoords"
           }
          ],
          "pie": [
           {
            "automargin": true,
            "type": "pie"
           }
          ],
          "scatter": [
           {
            "fillpattern": {
             "fillmode": "overlay",
             "size": 10,
             "solidity": 0.2
            },
            "type": "scatter"
           }
          ],
          "scatter3d": [
           {
            "line": {
             "colorbar": {
              "outlinewidth": 0,
              "ticks": ""
             }
            },
            "marker": {
             "colorbar": {
              "outlinewidth": 0,
              "ticks": ""
             }
            },
            "type": "scatter3d"
           }
          ],
          "scattercarpet": [
           {
            "marker": {
             "colorbar": {
              "outlinewidth": 0,
              "ticks": ""
             }
            },
            "type": "scattercarpet"
           }
          ],
          "scattergeo": [
           {
            "marker": {
             "colorbar": {
              "outlinewidth": 0,
              "ticks": ""
             }
            },
            "type": "scattergeo"
           }
          ],
          "scattergl": [
           {
            "marker": {
             "colorbar": {
              "outlinewidth": 0,
              "ticks": ""
             }
            },
            "type": "scattergl"
           }
          ],
          "scattermapbox": [
           {
            "marker": {
             "colorbar": {
              "outlinewidth": 0,
              "ticks": ""
             }
            },
            "type": "scattermapbox"
           }
          ],
          "scatterpolar": [
           {
            "marker": {
             "colorbar": {
              "outlinewidth": 0,
              "ticks": ""
             }
            },
            "type": "scatterpolar"
           }
          ],
          "scatterpolargl": [
           {
            "marker": {
             "colorbar": {
              "outlinewidth": 0,
              "ticks": ""
             }
            },
            "type": "scatterpolargl"
           }
          ],
          "scatterternary": [
           {
            "marker": {
             "colorbar": {
              "outlinewidth": 0,
              "ticks": ""
             }
            },
            "type": "scatterternary"
           }
          ],
          "surface": [
           {
            "colorbar": {
             "outlinewidth": 0,
             "ticks": ""
            },
            "colorscale": [
             [
              0,
              "#0d0887"
             ],
             [
              0.1111111111111111,
              "#46039f"
             ],
             [
              0.2222222222222222,
              "#7201a8"
             ],
             [
              0.3333333333333333,
              "#9c179e"
             ],
             [
              0.4444444444444444,
              "#bd3786"
             ],
             [
              0.5555555555555556,
              "#d8576b"
             ],
             [
              0.6666666666666666,
              "#ed7953"
             ],
             [
              0.7777777777777778,
              "#fb9f3a"
             ],
             [
              0.8888888888888888,
              "#fdca26"
             ],
             [
              1,
              "#f0f921"
             ]
            ],
            "type": "surface"
           }
          ],
          "table": [
           {
            "cells": {
             "fill": {
              "color": "#EBF0F8"
             },
             "line": {
              "color": "white"
             }
            },
            "header": {
             "fill": {
              "color": "#C8D4E3"
             },
             "line": {
              "color": "white"
             }
            },
            "type": "table"
           }
          ]
         },
         "layout": {
          "annotationdefaults": {
           "arrowcolor": "#2a3f5f",
           "arrowhead": 0,
           "arrowwidth": 1
          },
          "autotypenumbers": "strict",
          "coloraxis": {
           "colorbar": {
            "outlinewidth": 0,
            "ticks": ""
           }
          },
          "colorscale": {
           "diverging": [
            [
             0,
             "#8e0152"
            ],
            [
             0.1,
             "#c51b7d"
            ],
            [
             0.2,
             "#de77ae"
            ],
            [
             0.3,
             "#f1b6da"
            ],
            [
             0.4,
             "#fde0ef"
            ],
            [
             0.5,
             "#f7f7f7"
            ],
            [
             0.6,
             "#e6f5d0"
            ],
            [
             0.7,
             "#b8e186"
            ],
            [
             0.8,
             "#7fbc41"
            ],
            [
             0.9,
             "#4d9221"
            ],
            [
             1,
             "#276419"
            ]
           ],
           "sequential": [
            [
             0,
             "#0d0887"
            ],
            [
             0.1111111111111111,
             "#46039f"
            ],
            [
             0.2222222222222222,
             "#7201a8"
            ],
            [
             0.3333333333333333,
             "#9c179e"
            ],
            [
             0.4444444444444444,
             "#bd3786"
            ],
            [
             0.5555555555555556,
             "#d8576b"
            ],
            [
             0.6666666666666666,
             "#ed7953"
            ],
            [
             0.7777777777777778,
             "#fb9f3a"
            ],
            [
             0.8888888888888888,
             "#fdca26"
            ],
            [
             1,
             "#f0f921"
            ]
           ],
           "sequentialminus": [
            [
             0,
             "#0d0887"
            ],
            [
             0.1111111111111111,
             "#46039f"
            ],
            [
             0.2222222222222222,
             "#7201a8"
            ],
            [
             0.3333333333333333,
             "#9c179e"
            ],
            [
             0.4444444444444444,
             "#bd3786"
            ],
            [
             0.5555555555555556,
             "#d8576b"
            ],
            [
             0.6666666666666666,
             "#ed7953"
            ],
            [
             0.7777777777777778,
             "#fb9f3a"
            ],
            [
             0.8888888888888888,
             "#fdca26"
            ],
            [
             1,
             "#f0f921"
            ]
           ]
          },
          "colorway": [
           "#636efa",
           "#EF553B",
           "#00cc96",
           "#ab63fa",
           "#FFA15A",
           "#19d3f3",
           "#FF6692",
           "#B6E880",
           "#FF97FF",
           "#FECB52"
          ],
          "font": {
           "color": "#2a3f5f"
          },
          "geo": {
           "bgcolor": "white",
           "lakecolor": "white",
           "landcolor": "#E5ECF6",
           "showlakes": true,
           "showland": true,
           "subunitcolor": "white"
          },
          "hoverlabel": {
           "align": "left"
          },
          "hovermode": "closest",
          "mapbox": {
           "style": "light"
          },
          "paper_bgcolor": "white",
          "plot_bgcolor": "#E5ECF6",
          "polar": {
           "angularaxis": {
            "gridcolor": "white",
            "linecolor": "white",
            "ticks": ""
           },
           "bgcolor": "#E5ECF6",
           "radialaxis": {
            "gridcolor": "white",
            "linecolor": "white",
            "ticks": ""
           }
          },
          "scene": {
           "xaxis": {
            "backgroundcolor": "#E5ECF6",
            "gridcolor": "white",
            "gridwidth": 2,
            "linecolor": "white",
            "showbackground": true,
            "ticks": "",
            "zerolinecolor": "white"
           },
           "yaxis": {
            "backgroundcolor": "#E5ECF6",
            "gridcolor": "white",
            "gridwidth": 2,
            "linecolor": "white",
            "showbackground": true,
            "ticks": "",
            "zerolinecolor": "white"
           },
           "zaxis": {
            "backgroundcolor": "#E5ECF6",
            "gridcolor": "white",
            "gridwidth": 2,
            "linecolor": "white",
            "showbackground": true,
            "ticks": "",
            "zerolinecolor": "white"
           }
          },
          "shapedefaults": {
           "line": {
            "color": "#2a3f5f"
           }
          },
          "ternary": {
           "aaxis": {
            "gridcolor": "white",
            "linecolor": "white",
            "ticks": ""
           },
           "baxis": {
            "gridcolor": "white",
            "linecolor": "white",
            "ticks": ""
           },
           "bgcolor": "#E5ECF6",
           "caxis": {
            "gridcolor": "white",
            "linecolor": "white",
            "ticks": ""
           }
          },
          "title": {
           "x": 0.05
          },
          "xaxis": {
           "automargin": true,
           "gridcolor": "white",
           "linecolor": "white",
           "ticks": "",
           "title": {
            "standoff": 15
           },
           "zerolinecolor": "white",
           "zerolinewidth": 2
          },
          "yaxis": {
           "automargin": true,
           "gridcolor": "white",
           "linecolor": "white",
           "ticks": "",
           "title": {
            "standoff": 15
           },
           "zerolinecolor": "white",
           "zerolinewidth": 2
          }
         }
        },
        "title": {
         "text": "Variação em R$ por Resultado"
        },
        "xaxis": {
         "anchor": "y",
         "categoryarray": [
          "Estável",
          "Negativo",
          "Positivo"
         ],
         "categoryorder": "array",
         "domain": [
          0,
          1
         ],
         "title": {
          "text": "result"
         }
        },
        "yaxis": {
         "anchor": "x",
         "domain": [
          0,
          1
         ],
         "title": {
          "text": "var_rs"
         }
        }
       }
      }
     },
     "metadata": {},
     "output_type": "display_data"
    }
   ],
   "source": [
    "format_text = lambda var_rs: f'R$ {var_rs:,.2f}'.replace(',', '.')\n",
    "saldo_df['formatted_var_rs'] = saldo_df['var_rs'].apply(format_text)\n",
    "\n",
    "fig = px.bar(saldo_df, x='result', y='var_rs', text='formatted_var_rs', color='result', title='Variação em R$ por Resultado')\n",
    "fig.show()"
   ]
  },
  {
   "cell_type": "markdown",
   "metadata": {},
   "source": [
    "#### Variação Positiva por Segmento"
   ]
  },
  {
   "cell_type": "code",
   "execution_count": 137,
   "metadata": {},
   "outputs": [],
   "source": [
    "segmento_df_positivos = segmento_df[segmento_df['var_rs'] > 0].reset_index(drop=True)"
   ]
  },
  {
   "cell_type": "code",
   "execution_count": 138,
   "metadata": {},
   "outputs": [
    {
     "data": {
      "text/html": [
       "<div>\n",
       "<style scoped>\n",
       "    .dataframe tbody tr th:only-of-type {\n",
       "        vertical-align: middle;\n",
       "    }\n",
       "\n",
       "    .dataframe tbody tr th {\n",
       "        vertical-align: top;\n",
       "    }\n",
       "\n",
       "    .dataframe thead th {\n",
       "        text-align: right;\n",
       "    }\n",
       "</style>\n",
       "<table border=\"1\" class=\"dataframe\">\n",
       "  <thead>\n",
       "    <tr style=\"text-align: right;\">\n",
       "      <th></th>\n",
       "      <th>Segmento</th>\n",
       "      <th>var_rs</th>\n",
       "    </tr>\n",
       "  </thead>\n",
       "  <tbody>\n",
       "    <tr>\n",
       "      <th>0</th>\n",
       "      <td>Alimentos</td>\n",
       "      <td>407833683.09</td>\n",
       "    </tr>\n",
       "    <tr>\n",
       "      <th>1</th>\n",
       "      <td>Educação</td>\n",
       "      <td>54641872.47</td>\n",
       "    </tr>\n",
       "    <tr>\n",
       "      <th>2</th>\n",
       "      <td>Energia e Infraestrutura</td>\n",
       "      <td>127229653.18</td>\n",
       "    </tr>\n",
       "    <tr>\n",
       "      <th>3</th>\n",
       "      <td>Energia e Química</td>\n",
       "      <td>388705223.96</td>\n",
       "    </tr>\n",
       "    <tr>\n",
       "      <th>4</th>\n",
       "      <td>Farmácias</td>\n",
       "      <td>202352473.74</td>\n",
       "    </tr>\n",
       "    <tr>\n",
       "      <th>5</th>\n",
       "      <td>Holding</td>\n",
       "      <td>18068446.61</td>\n",
       "    </tr>\n",
       "    <tr>\n",
       "      <th>6</th>\n",
       "      <td>Investimentos Diversos</td>\n",
       "      <td>416092244.42</td>\n",
       "    </tr>\n",
       "    <tr>\n",
       "      <th>7</th>\n",
       "      <td>Logística</td>\n",
       "      <td>233902674.79</td>\n",
       "    </tr>\n",
       "    <tr>\n",
       "      <th>8</th>\n",
       "      <td>Meios de Pagamento</td>\n",
       "      <td>43657683.38</td>\n",
       "    </tr>\n",
       "    <tr>\n",
       "      <th>9</th>\n",
       "      <td>Mineração</td>\n",
       "      <td>4940442965.55</td>\n",
       "    </tr>\n",
       "    <tr>\n",
       "      <th>10</th>\n",
       "      <td>Papel e Celulose</td>\n",
       "      <td>722946282.71</td>\n",
       "    </tr>\n",
       "    <tr>\n",
       "      <th>11</th>\n",
       "      <td>Petroquímica</td>\n",
       "      <td>69054317.64</td>\n",
       "    </tr>\n",
       "    <tr>\n",
       "      <th>12</th>\n",
       "      <td>Petróleo e Gás</td>\n",
       "      <td>11336484517.00</td>\n",
       "    </tr>\n",
       "    <tr>\n",
       "      <th>13</th>\n",
       "      <td>Saúde</td>\n",
       "      <td>60321469.88</td>\n",
       "    </tr>\n",
       "    <tr>\n",
       "      <th>14</th>\n",
       "      <td>Serviços Financeiros</td>\n",
       "      <td>3462894298.89</td>\n",
       "    </tr>\n",
       "    <tr>\n",
       "      <th>15</th>\n",
       "      <td>Shopping Centers</td>\n",
       "      <td>117732680.08</td>\n",
       "    </tr>\n",
       "    <tr>\n",
       "      <th>16</th>\n",
       "      <td>Siderurgia</td>\n",
       "      <td>489935930.93</td>\n",
       "    </tr>\n",
       "    <tr>\n",
       "      <th>17</th>\n",
       "      <td>Telecomunicações</td>\n",
       "      <td>292938114.42</td>\n",
       "    </tr>\n",
       "  </tbody>\n",
       "</table>\n",
       "</div>"
      ],
      "text/plain": [
       "                    Segmento         var_rs\n",
       "0                  Alimentos   407833683.09\n",
       "1                   Educação    54641872.47\n",
       "2   Energia e Infraestrutura   127229653.18\n",
       "3          Energia e Química   388705223.96\n",
       "4                  Farmácias   202352473.74\n",
       "5                    Holding    18068446.61\n",
       "6     Investimentos Diversos   416092244.42\n",
       "7                  Logística   233902674.79\n",
       "8         Meios de Pagamento    43657683.38\n",
       "9                  Mineração  4940442965.55\n",
       "10          Papel e Celulose   722946282.71\n",
       "11              Petroquímica    69054317.64\n",
       "12            Petróleo e Gás 11336484517.00\n",
       "13                     Saúde    60321469.88\n",
       "14      Serviços Financeiros  3462894298.89\n",
       "15          Shopping Centers   117732680.08\n",
       "16                Siderurgia   489935930.93\n",
       "17          Telecomunicações   292938114.42"
      ]
     },
     "execution_count": 138,
     "metadata": {},
     "output_type": "execute_result"
    }
   ],
   "source": [
    "segmento_df_positivos"
   ]
  },
  {
   "cell_type": "code",
   "execution_count": 139,
   "metadata": {},
   "outputs": [
    {
     "data": {
      "application/vnd.plotly.v1+json": {
       "config": {
        "plotlyServerURL": "https://plot.ly"
       },
       "data": [
        {
         "domain": {
          "x": [
           0,
           1
          ],
          "y": [
           0,
           1
          ]
         },
         "hovertemplate": "Segmento=%{label}<br>var_rs=%{value}<extra></extra>",
         "labels": [
          "Alimentos",
          "Educação",
          "Energia e Infraestrutura",
          "Energia e Química",
          "Farmácias",
          "Holding",
          "Investimentos Diversos",
          "Logística",
          "Meios de Pagamento",
          "Mineração",
          "Papel e Celulose",
          "Petroquímica",
          "Petróleo e Gás",
          "Saúde",
          "Serviços Financeiros",
          "Shopping Centers",
          "Siderurgia",
          "Telecomunicações"
         ],
         "legendgroup": "",
         "name": "",
         "showlegend": true,
         "type": "pie",
         "values": [
          407833683.0924499,
          54641872.47123301,
          127229653.18222687,
          388705223.95601785,
          202352473.73982856,
          18068446.60998324,
          416092244.423763,
          233902674.79257408,
          43657683.37554085,
          4940442965.550434,
          722946282.7090385,
          69054317.63603853,
          11336484517.004236,
          60321469.88299662,
          3462894298.8869777,
          117732680.0784251,
          489935930.9283229,
          292938114.42357796
         ]
        }
       ],
       "layout": {
        "legend": {
         "tracegroupgap": 0
        },
        "template": {
         "data": {
          "bar": [
           {
            "error_x": {
             "color": "#2a3f5f"
            },
            "error_y": {
             "color": "#2a3f5f"
            },
            "marker": {
             "line": {
              "color": "#E5ECF6",
              "width": 0.5
             },
             "pattern": {
              "fillmode": "overlay",
              "size": 10,
              "solidity": 0.2
             }
            },
            "type": "bar"
           }
          ],
          "barpolar": [
           {
            "marker": {
             "line": {
              "color": "#E5ECF6",
              "width": 0.5
             },
             "pattern": {
              "fillmode": "overlay",
              "size": 10,
              "solidity": 0.2
             }
            },
            "type": "barpolar"
           }
          ],
          "carpet": [
           {
            "aaxis": {
             "endlinecolor": "#2a3f5f",
             "gridcolor": "white",
             "linecolor": "white",
             "minorgridcolor": "white",
             "startlinecolor": "#2a3f5f"
            },
            "baxis": {
             "endlinecolor": "#2a3f5f",
             "gridcolor": "white",
             "linecolor": "white",
             "minorgridcolor": "white",
             "startlinecolor": "#2a3f5f"
            },
            "type": "carpet"
           }
          ],
          "choropleth": [
           {
            "colorbar": {
             "outlinewidth": 0,
             "ticks": ""
            },
            "type": "choropleth"
           }
          ],
          "contour": [
           {
            "colorbar": {
             "outlinewidth": 0,
             "ticks": ""
            },
            "colorscale": [
             [
              0,
              "#0d0887"
             ],
             [
              0.1111111111111111,
              "#46039f"
             ],
             [
              0.2222222222222222,
              "#7201a8"
             ],
             [
              0.3333333333333333,
              "#9c179e"
             ],
             [
              0.4444444444444444,
              "#bd3786"
             ],
             [
              0.5555555555555556,
              "#d8576b"
             ],
             [
              0.6666666666666666,
              "#ed7953"
             ],
             [
              0.7777777777777778,
              "#fb9f3a"
             ],
             [
              0.8888888888888888,
              "#fdca26"
             ],
             [
              1,
              "#f0f921"
             ]
            ],
            "type": "contour"
           }
          ],
          "contourcarpet": [
           {
            "colorbar": {
             "outlinewidth": 0,
             "ticks": ""
            },
            "type": "contourcarpet"
           }
          ],
          "heatmap": [
           {
            "colorbar": {
             "outlinewidth": 0,
             "ticks": ""
            },
            "colorscale": [
             [
              0,
              "#0d0887"
             ],
             [
              0.1111111111111111,
              "#46039f"
             ],
             [
              0.2222222222222222,
              "#7201a8"
             ],
             [
              0.3333333333333333,
              "#9c179e"
             ],
             [
              0.4444444444444444,
              "#bd3786"
             ],
             [
              0.5555555555555556,
              "#d8576b"
             ],
             [
              0.6666666666666666,
              "#ed7953"
             ],
             [
              0.7777777777777778,
              "#fb9f3a"
             ],
             [
              0.8888888888888888,
              "#fdca26"
             ],
             [
              1,
              "#f0f921"
             ]
            ],
            "type": "heatmap"
           }
          ],
          "heatmapgl": [
           {
            "colorbar": {
             "outlinewidth": 0,
             "ticks": ""
            },
            "colorscale": [
             [
              0,
              "#0d0887"
             ],
             [
              0.1111111111111111,
              "#46039f"
             ],
             [
              0.2222222222222222,
              "#7201a8"
             ],
             [
              0.3333333333333333,
              "#9c179e"
             ],
             [
              0.4444444444444444,
              "#bd3786"
             ],
             [
              0.5555555555555556,
              "#d8576b"
             ],
             [
              0.6666666666666666,
              "#ed7953"
             ],
             [
              0.7777777777777778,
              "#fb9f3a"
             ],
             [
              0.8888888888888888,
              "#fdca26"
             ],
             [
              1,
              "#f0f921"
             ]
            ],
            "type": "heatmapgl"
           }
          ],
          "histogram": [
           {
            "marker": {
             "pattern": {
              "fillmode": "overlay",
              "size": 10,
              "solidity": 0.2
             }
            },
            "type": "histogram"
           }
          ],
          "histogram2d": [
           {
            "colorbar": {
             "outlinewidth": 0,
             "ticks": ""
            },
            "colorscale": [
             [
              0,
              "#0d0887"
             ],
             [
              0.1111111111111111,
              "#46039f"
             ],
             [
              0.2222222222222222,
              "#7201a8"
             ],
             [
              0.3333333333333333,
              "#9c179e"
             ],
             [
              0.4444444444444444,
              "#bd3786"
             ],
             [
              0.5555555555555556,
              "#d8576b"
             ],
             [
              0.6666666666666666,
              "#ed7953"
             ],
             [
              0.7777777777777778,
              "#fb9f3a"
             ],
             [
              0.8888888888888888,
              "#fdca26"
             ],
             [
              1,
              "#f0f921"
             ]
            ],
            "type": "histogram2d"
           }
          ],
          "histogram2dcontour": [
           {
            "colorbar": {
             "outlinewidth": 0,
             "ticks": ""
            },
            "colorscale": [
             [
              0,
              "#0d0887"
             ],
             [
              0.1111111111111111,
              "#46039f"
             ],
             [
              0.2222222222222222,
              "#7201a8"
             ],
             [
              0.3333333333333333,
              "#9c179e"
             ],
             [
              0.4444444444444444,
              "#bd3786"
             ],
             [
              0.5555555555555556,
              "#d8576b"
             ],
             [
              0.6666666666666666,
              "#ed7953"
             ],
             [
              0.7777777777777778,
              "#fb9f3a"
             ],
             [
              0.8888888888888888,
              "#fdca26"
             ],
             [
              1,
              "#f0f921"
             ]
            ],
            "type": "histogram2dcontour"
           }
          ],
          "mesh3d": [
           {
            "colorbar": {
             "outlinewidth": 0,
             "ticks": ""
            },
            "type": "mesh3d"
           }
          ],
          "parcoords": [
           {
            "line": {
             "colorbar": {
              "outlinewidth": 0,
              "ticks": ""
             }
            },
            "type": "parcoords"
           }
          ],
          "pie": [
           {
            "automargin": true,
            "type": "pie"
           }
          ],
          "scatter": [
           {
            "fillpattern": {
             "fillmode": "overlay",
             "size": 10,
             "solidity": 0.2
            },
            "type": "scatter"
           }
          ],
          "scatter3d": [
           {
            "line": {
             "colorbar": {
              "outlinewidth": 0,
              "ticks": ""
             }
            },
            "marker": {
             "colorbar": {
              "outlinewidth": 0,
              "ticks": ""
             }
            },
            "type": "scatter3d"
           }
          ],
          "scattercarpet": [
           {
            "marker": {
             "colorbar": {
              "outlinewidth": 0,
              "ticks": ""
             }
            },
            "type": "scattercarpet"
           }
          ],
          "scattergeo": [
           {
            "marker": {
             "colorbar": {
              "outlinewidth": 0,
              "ticks": ""
             }
            },
            "type": "scattergeo"
           }
          ],
          "scattergl": [
           {
            "marker": {
             "colorbar": {
              "outlinewidth": 0,
              "ticks": ""
             }
            },
            "type": "scattergl"
           }
          ],
          "scattermapbox": [
           {
            "marker": {
             "colorbar": {
              "outlinewidth": 0,
              "ticks": ""
             }
            },
            "type": "scattermapbox"
           }
          ],
          "scatterpolar": [
           {
            "marker": {
             "colorbar": {
              "outlinewidth": 0,
              "ticks": ""
             }
            },
            "type": "scatterpolar"
           }
          ],
          "scatterpolargl": [
           {
            "marker": {
             "colorbar": {
              "outlinewidth": 0,
              "ticks": ""
             }
            },
            "type": "scatterpolargl"
           }
          ],
          "scatterternary": [
           {
            "marker": {
             "colorbar": {
              "outlinewidth": 0,
              "ticks": ""
             }
            },
            "type": "scatterternary"
           }
          ],
          "surface": [
           {
            "colorbar": {
             "outlinewidth": 0,
             "ticks": ""
            },
            "colorscale": [
             [
              0,
              "#0d0887"
             ],
             [
              0.1111111111111111,
              "#46039f"
             ],
             [
              0.2222222222222222,
              "#7201a8"
             ],
             [
              0.3333333333333333,
              "#9c179e"
             ],
             [
              0.4444444444444444,
              "#bd3786"
             ],
             [
              0.5555555555555556,
              "#d8576b"
             ],
             [
              0.6666666666666666,
              "#ed7953"
             ],
             [
              0.7777777777777778,
              "#fb9f3a"
             ],
             [
              0.8888888888888888,
              "#fdca26"
             ],
             [
              1,
              "#f0f921"
             ]
            ],
            "type": "surface"
           }
          ],
          "table": [
           {
            "cells": {
             "fill": {
              "color": "#EBF0F8"
             },
             "line": {
              "color": "white"
             }
            },
            "header": {
             "fill": {
              "color": "#C8D4E3"
             },
             "line": {
              "color": "white"
             }
            },
            "type": "table"
           }
          ]
         },
         "layout": {
          "annotationdefaults": {
           "arrowcolor": "#2a3f5f",
           "arrowhead": 0,
           "arrowwidth": 1
          },
          "autotypenumbers": "strict",
          "coloraxis": {
           "colorbar": {
            "outlinewidth": 0,
            "ticks": ""
           }
          },
          "colorscale": {
           "diverging": [
            [
             0,
             "#8e0152"
            ],
            [
             0.1,
             "#c51b7d"
            ],
            [
             0.2,
             "#de77ae"
            ],
            [
             0.3,
             "#f1b6da"
            ],
            [
             0.4,
             "#fde0ef"
            ],
            [
             0.5,
             "#f7f7f7"
            ],
            [
             0.6,
             "#e6f5d0"
            ],
            [
             0.7,
             "#b8e186"
            ],
            [
             0.8,
             "#7fbc41"
            ],
            [
             0.9,
             "#4d9221"
            ],
            [
             1,
             "#276419"
            ]
           ],
           "sequential": [
            [
             0,
             "#0d0887"
            ],
            [
             0.1111111111111111,
             "#46039f"
            ],
            [
             0.2222222222222222,
             "#7201a8"
            ],
            [
             0.3333333333333333,
             "#9c179e"
            ],
            [
             0.4444444444444444,
             "#bd3786"
            ],
            [
             0.5555555555555556,
             "#d8576b"
            ],
            [
             0.6666666666666666,
             "#ed7953"
            ],
            [
             0.7777777777777778,
             "#fb9f3a"
            ],
            [
             0.8888888888888888,
             "#fdca26"
            ],
            [
             1,
             "#f0f921"
            ]
           ],
           "sequentialminus": [
            [
             0,
             "#0d0887"
            ],
            [
             0.1111111111111111,
             "#46039f"
            ],
            [
             0.2222222222222222,
             "#7201a8"
            ],
            [
             0.3333333333333333,
             "#9c179e"
            ],
            [
             0.4444444444444444,
             "#bd3786"
            ],
            [
             0.5555555555555556,
             "#d8576b"
            ],
            [
             0.6666666666666666,
             "#ed7953"
            ],
            [
             0.7777777777777778,
             "#fb9f3a"
            ],
            [
             0.8888888888888888,
             "#fdca26"
            ],
            [
             1,
             "#f0f921"
            ]
           ]
          },
          "colorway": [
           "#636efa",
           "#EF553B",
           "#00cc96",
           "#ab63fa",
           "#FFA15A",
           "#19d3f3",
           "#FF6692",
           "#B6E880",
           "#FF97FF",
           "#FECB52"
          ],
          "font": {
           "color": "#2a3f5f"
          },
          "geo": {
           "bgcolor": "white",
           "lakecolor": "white",
           "landcolor": "#E5ECF6",
           "showlakes": true,
           "showland": true,
           "subunitcolor": "white"
          },
          "hoverlabel": {
           "align": "left"
          },
          "hovermode": "closest",
          "mapbox": {
           "style": "light"
          },
          "paper_bgcolor": "white",
          "plot_bgcolor": "#E5ECF6",
          "polar": {
           "angularaxis": {
            "gridcolor": "white",
            "linecolor": "white",
            "ticks": ""
           },
           "bgcolor": "#E5ECF6",
           "radialaxis": {
            "gridcolor": "white",
            "linecolor": "white",
            "ticks": ""
           }
          },
          "scene": {
           "xaxis": {
            "backgroundcolor": "#E5ECF6",
            "gridcolor": "white",
            "gridwidth": 2,
            "linecolor": "white",
            "showbackground": true,
            "ticks": "",
            "zerolinecolor": "white"
           },
           "yaxis": {
            "backgroundcolor": "#E5ECF6",
            "gridcolor": "white",
            "gridwidth": 2,
            "linecolor": "white",
            "showbackground": true,
            "ticks": "",
            "zerolinecolor": "white"
           },
           "zaxis": {
            "backgroundcolor": "#E5ECF6",
            "gridcolor": "white",
            "gridwidth": 2,
            "linecolor": "white",
            "showbackground": true,
            "ticks": "",
            "zerolinecolor": "white"
           }
          },
          "shapedefaults": {
           "line": {
            "color": "#2a3f5f"
           }
          },
          "ternary": {
           "aaxis": {
            "gridcolor": "white",
            "linecolor": "white",
            "ticks": ""
           },
           "baxis": {
            "gridcolor": "white",
            "linecolor": "white",
            "ticks": ""
           },
           "bgcolor": "#E5ECF6",
           "caxis": {
            "gridcolor": "white",
            "linecolor": "white",
            "ticks": ""
           }
          },
          "title": {
           "x": 0.05
          },
          "xaxis": {
           "automargin": true,
           "gridcolor": "white",
           "linecolor": "white",
           "ticks": "",
           "title": {
            "standoff": 15
           },
           "zerolinecolor": "white",
           "zerolinewidth": 2
          },
          "yaxis": {
           "automargin": true,
           "gridcolor": "white",
           "linecolor": "white",
           "ticks": "",
           "title": {
            "standoff": 15
           },
           "zerolinecolor": "white",
           "zerolinewidth": 2
          }
         }
        },
        "title": {
         "text": "Variação em R$ por Segmento"
        }
       }
      }
     },
     "metadata": {},
     "output_type": "display_data"
    }
   ],
   "source": [
    "fig = px.pie(segmento_df_positivos, values='var_rs', names='Segmento', title='Variação em R$ por Segmento')\n",
    "fig.show()"
   ]
  },
  {
   "cell_type": "code",
   "execution_count": 140,
   "metadata": {},
   "outputs": [
    {
     "data": {
      "text/plain": [
       "12   11336484517.00\n",
       "9     4940442965.55\n",
       "14    3462894298.89\n",
       "10     722946282.71\n",
       "16     489935930.93\n",
       "6      416092244.42\n",
       "Name: var_rs, dtype: float64"
      ]
     },
     "execution_count": 140,
     "metadata": {},
     "output_type": "execute_result"
    }
   ],
   "source": [
    "segmento_df_positivos['var_rs'].nlargest(6)"
   ]
  },
  {
   "cell_type": "code",
   "execution_count": 141,
   "metadata": {},
   "outputs": [
    {
     "data": {
      "text/plain": [
       "9    722946282.71\n",
       "13   489935930.93\n",
       "6    416092244.42\n",
       "Name: var_rs, dtype: float64"
      ]
     },
     "execution_count": 141,
     "metadata": {},
     "output_type": "execute_result"
    }
   ],
   "source": [
    "segmentos_pos_outliers_index = segmento_df_positivos['var_rs'].nlargest(3).index\n",
    "segmentos_pos_outliers = segmento_df_positivos.drop(segmentos_pos_outliers_index).reset_index(drop=True)\n",
    "segmentos_pos_outliers['var_rs'].nlargest(3)"
   ]
  },
  {
   "cell_type": "code",
   "execution_count": 142,
   "metadata": {},
   "outputs": [
    {
     "data": {
      "application/vnd.plotly.v1+json": {
       "config": {
        "plotlyServerURL": "https://plot.ly"
       },
       "data": [
        {
         "domain": {
          "x": [
           0,
           1
          ],
          "y": [
           0,
           1
          ]
         },
         "hovertemplate": "Segmento=%{label}<br>var_rs=%{value}<extra></extra>",
         "labels": [
          "Alimentos",
          "Educação",
          "Energia e Infraestrutura",
          "Energia e Química",
          "Farmácias",
          "Holding",
          "Investimentos Diversos",
          "Logística",
          "Meios de Pagamento",
          "Papel e Celulose",
          "Petroquímica",
          "Saúde",
          "Shopping Centers",
          "Siderurgia",
          "Telecomunicações"
         ],
         "legendgroup": "",
         "name": "",
         "showlegend": true,
         "type": "pie",
         "values": [
          407833683.0924499,
          54641872.47123301,
          127229653.18222687,
          388705223.95601785,
          202352473.73982856,
          18068446.60998324,
          416092244.423763,
          233902674.79257408,
          43657683.37554085,
          722946282.7090385,
          69054317.63603853,
          60321469.88299662,
          117732680.0784251,
          489935930.9283229,
          292938114.42357796
         ]
        }
       ],
       "layout": {
        "legend": {
         "tracegroupgap": 0
        },
        "template": {
         "data": {
          "bar": [
           {
            "error_x": {
             "color": "#2a3f5f"
            },
            "error_y": {
             "color": "#2a3f5f"
            },
            "marker": {
             "line": {
              "color": "#E5ECF6",
              "width": 0.5
             },
             "pattern": {
              "fillmode": "overlay",
              "size": 10,
              "solidity": 0.2
             }
            },
            "type": "bar"
           }
          ],
          "barpolar": [
           {
            "marker": {
             "line": {
              "color": "#E5ECF6",
              "width": 0.5
             },
             "pattern": {
              "fillmode": "overlay",
              "size": 10,
              "solidity": 0.2
             }
            },
            "type": "barpolar"
           }
          ],
          "carpet": [
           {
            "aaxis": {
             "endlinecolor": "#2a3f5f",
             "gridcolor": "white",
             "linecolor": "white",
             "minorgridcolor": "white",
             "startlinecolor": "#2a3f5f"
            },
            "baxis": {
             "endlinecolor": "#2a3f5f",
             "gridcolor": "white",
             "linecolor": "white",
             "minorgridcolor": "white",
             "startlinecolor": "#2a3f5f"
            },
            "type": "carpet"
           }
          ],
          "choropleth": [
           {
            "colorbar": {
             "outlinewidth": 0,
             "ticks": ""
            },
            "type": "choropleth"
           }
          ],
          "contour": [
           {
            "colorbar": {
             "outlinewidth": 0,
             "ticks": ""
            },
            "colorscale": [
             [
              0,
              "#0d0887"
             ],
             [
              0.1111111111111111,
              "#46039f"
             ],
             [
              0.2222222222222222,
              "#7201a8"
             ],
             [
              0.3333333333333333,
              "#9c179e"
             ],
             [
              0.4444444444444444,
              "#bd3786"
             ],
             [
              0.5555555555555556,
              "#d8576b"
             ],
             [
              0.6666666666666666,
              "#ed7953"
             ],
             [
              0.7777777777777778,
              "#fb9f3a"
             ],
             [
              0.8888888888888888,
              "#fdca26"
             ],
             [
              1,
              "#f0f921"
             ]
            ],
            "type": "contour"
           }
          ],
          "contourcarpet": [
           {
            "colorbar": {
             "outlinewidth": 0,
             "ticks": ""
            },
            "type": "contourcarpet"
           }
          ],
          "heatmap": [
           {
            "colorbar": {
             "outlinewidth": 0,
             "ticks": ""
            },
            "colorscale": [
             [
              0,
              "#0d0887"
             ],
             [
              0.1111111111111111,
              "#46039f"
             ],
             [
              0.2222222222222222,
              "#7201a8"
             ],
             [
              0.3333333333333333,
              "#9c179e"
             ],
             [
              0.4444444444444444,
              "#bd3786"
             ],
             [
              0.5555555555555556,
              "#d8576b"
             ],
             [
              0.6666666666666666,
              "#ed7953"
             ],
             [
              0.7777777777777778,
              "#fb9f3a"
             ],
             [
              0.8888888888888888,
              "#fdca26"
             ],
             [
              1,
              "#f0f921"
             ]
            ],
            "type": "heatmap"
           }
          ],
          "heatmapgl": [
           {
            "colorbar": {
             "outlinewidth": 0,
             "ticks": ""
            },
            "colorscale": [
             [
              0,
              "#0d0887"
             ],
             [
              0.1111111111111111,
              "#46039f"
             ],
             [
              0.2222222222222222,
              "#7201a8"
             ],
             [
              0.3333333333333333,
              "#9c179e"
             ],
             [
              0.4444444444444444,
              "#bd3786"
             ],
             [
              0.5555555555555556,
              "#d8576b"
             ],
             [
              0.6666666666666666,
              "#ed7953"
             ],
             [
              0.7777777777777778,
              "#fb9f3a"
             ],
             [
              0.8888888888888888,
              "#fdca26"
             ],
             [
              1,
              "#f0f921"
             ]
            ],
            "type": "heatmapgl"
           }
          ],
          "histogram": [
           {
            "marker": {
             "pattern": {
              "fillmode": "overlay",
              "size": 10,
              "solidity": 0.2
             }
            },
            "type": "histogram"
           }
          ],
          "histogram2d": [
           {
            "colorbar": {
             "outlinewidth": 0,
             "ticks": ""
            },
            "colorscale": [
             [
              0,
              "#0d0887"
             ],
             [
              0.1111111111111111,
              "#46039f"
             ],
             [
              0.2222222222222222,
              "#7201a8"
             ],
             [
              0.3333333333333333,
              "#9c179e"
             ],
             [
              0.4444444444444444,
              "#bd3786"
             ],
             [
              0.5555555555555556,
              "#d8576b"
             ],
             [
              0.6666666666666666,
              "#ed7953"
             ],
             [
              0.7777777777777778,
              "#fb9f3a"
             ],
             [
              0.8888888888888888,
              "#fdca26"
             ],
             [
              1,
              "#f0f921"
             ]
            ],
            "type": "histogram2d"
           }
          ],
          "histogram2dcontour": [
           {
            "colorbar": {
             "outlinewidth": 0,
             "ticks": ""
            },
            "colorscale": [
             [
              0,
              "#0d0887"
             ],
             [
              0.1111111111111111,
              "#46039f"
             ],
             [
              0.2222222222222222,
              "#7201a8"
             ],
             [
              0.3333333333333333,
              "#9c179e"
             ],
             [
              0.4444444444444444,
              "#bd3786"
             ],
             [
              0.5555555555555556,
              "#d8576b"
             ],
             [
              0.6666666666666666,
              "#ed7953"
             ],
             [
              0.7777777777777778,
              "#fb9f3a"
             ],
             [
              0.8888888888888888,
              "#fdca26"
             ],
             [
              1,
              "#f0f921"
             ]
            ],
            "type": "histogram2dcontour"
           }
          ],
          "mesh3d": [
           {
            "colorbar": {
             "outlinewidth": 0,
             "ticks": ""
            },
            "type": "mesh3d"
           }
          ],
          "parcoords": [
           {
            "line": {
             "colorbar": {
              "outlinewidth": 0,
              "ticks": ""
             }
            },
            "type": "parcoords"
           }
          ],
          "pie": [
           {
            "automargin": true,
            "type": "pie"
           }
          ],
          "scatter": [
           {
            "fillpattern": {
             "fillmode": "overlay",
             "size": 10,
             "solidity": 0.2
            },
            "type": "scatter"
           }
          ],
          "scatter3d": [
           {
            "line": {
             "colorbar": {
              "outlinewidth": 0,
              "ticks": ""
             }
            },
            "marker": {
             "colorbar": {
              "outlinewidth": 0,
              "ticks": ""
             }
            },
            "type": "scatter3d"
           }
          ],
          "scattercarpet": [
           {
            "marker": {
             "colorbar": {
              "outlinewidth": 0,
              "ticks": ""
             }
            },
            "type": "scattercarpet"
           }
          ],
          "scattergeo": [
           {
            "marker": {
             "colorbar": {
              "outlinewidth": 0,
              "ticks": ""
             }
            },
            "type": "scattergeo"
           }
          ],
          "scattergl": [
           {
            "marker": {
             "colorbar": {
              "outlinewidth": 0,
              "ticks": ""
             }
            },
            "type": "scattergl"
           }
          ],
          "scattermapbox": [
           {
            "marker": {
             "colorbar": {
              "outlinewidth": 0,
              "ticks": ""
             }
            },
            "type": "scattermapbox"
           }
          ],
          "scatterpolar": [
           {
            "marker": {
             "colorbar": {
              "outlinewidth": 0,
              "ticks": ""
             }
            },
            "type": "scatterpolar"
           }
          ],
          "scatterpolargl": [
           {
            "marker": {
             "colorbar": {
              "outlinewidth": 0,
              "ticks": ""
             }
            },
            "type": "scatterpolargl"
           }
          ],
          "scatterternary": [
           {
            "marker": {
             "colorbar": {
              "outlinewidth": 0,
              "ticks": ""
             }
            },
            "type": "scatterternary"
           }
          ],
          "surface": [
           {
            "colorbar": {
             "outlinewidth": 0,
             "ticks": ""
            },
            "colorscale": [
             [
              0,
              "#0d0887"
             ],
             [
              0.1111111111111111,
              "#46039f"
             ],
             [
              0.2222222222222222,
              "#7201a8"
             ],
             [
              0.3333333333333333,
              "#9c179e"
             ],
             [
              0.4444444444444444,
              "#bd3786"
             ],
             [
              0.5555555555555556,
              "#d8576b"
             ],
             [
              0.6666666666666666,
              "#ed7953"
             ],
             [
              0.7777777777777778,
              "#fb9f3a"
             ],
             [
              0.8888888888888888,
              "#fdca26"
             ],
             [
              1,
              "#f0f921"
             ]
            ],
            "type": "surface"
           }
          ],
          "table": [
           {
            "cells": {
             "fill": {
              "color": "#EBF0F8"
             },
             "line": {
              "color": "white"
             }
            },
            "header": {
             "fill": {
              "color": "#C8D4E3"
             },
             "line": {
              "color": "white"
             }
            },
            "type": "table"
           }
          ]
         },
         "layout": {
          "annotationdefaults": {
           "arrowcolor": "#2a3f5f",
           "arrowhead": 0,
           "arrowwidth": 1
          },
          "autotypenumbers": "strict",
          "coloraxis": {
           "colorbar": {
            "outlinewidth": 0,
            "ticks": ""
           }
          },
          "colorscale": {
           "diverging": [
            [
             0,
             "#8e0152"
            ],
            [
             0.1,
             "#c51b7d"
            ],
            [
             0.2,
             "#de77ae"
            ],
            [
             0.3,
             "#f1b6da"
            ],
            [
             0.4,
             "#fde0ef"
            ],
            [
             0.5,
             "#f7f7f7"
            ],
            [
             0.6,
             "#e6f5d0"
            ],
            [
             0.7,
             "#b8e186"
            ],
            [
             0.8,
             "#7fbc41"
            ],
            [
             0.9,
             "#4d9221"
            ],
            [
             1,
             "#276419"
            ]
           ],
           "sequential": [
            [
             0,
             "#0d0887"
            ],
            [
             0.1111111111111111,
             "#46039f"
            ],
            [
             0.2222222222222222,
             "#7201a8"
            ],
            [
             0.3333333333333333,
             "#9c179e"
            ],
            [
             0.4444444444444444,
             "#bd3786"
            ],
            [
             0.5555555555555556,
             "#d8576b"
            ],
            [
             0.6666666666666666,
             "#ed7953"
            ],
            [
             0.7777777777777778,
             "#fb9f3a"
            ],
            [
             0.8888888888888888,
             "#fdca26"
            ],
            [
             1,
             "#f0f921"
            ]
           ],
           "sequentialminus": [
            [
             0,
             "#0d0887"
            ],
            [
             0.1111111111111111,
             "#46039f"
            ],
            [
             0.2222222222222222,
             "#7201a8"
            ],
            [
             0.3333333333333333,
             "#9c179e"
            ],
            [
             0.4444444444444444,
             "#bd3786"
            ],
            [
             0.5555555555555556,
             "#d8576b"
            ],
            [
             0.6666666666666666,
             "#ed7953"
            ],
            [
             0.7777777777777778,
             "#fb9f3a"
            ],
            [
             0.8888888888888888,
             "#fdca26"
            ],
            [
             1,
             "#f0f921"
            ]
           ]
          },
          "colorway": [
           "#636efa",
           "#EF553B",
           "#00cc96",
           "#ab63fa",
           "#FFA15A",
           "#19d3f3",
           "#FF6692",
           "#B6E880",
           "#FF97FF",
           "#FECB52"
          ],
          "font": {
           "color": "#2a3f5f"
          },
          "geo": {
           "bgcolor": "white",
           "lakecolor": "white",
           "landcolor": "#E5ECF6",
           "showlakes": true,
           "showland": true,
           "subunitcolor": "white"
          },
          "hoverlabel": {
           "align": "left"
          },
          "hovermode": "closest",
          "mapbox": {
           "style": "light"
          },
          "paper_bgcolor": "white",
          "plot_bgcolor": "#E5ECF6",
          "polar": {
           "angularaxis": {
            "gridcolor": "white",
            "linecolor": "white",
            "ticks": ""
           },
           "bgcolor": "#E5ECF6",
           "radialaxis": {
            "gridcolor": "white",
            "linecolor": "white",
            "ticks": ""
           }
          },
          "scene": {
           "xaxis": {
            "backgroundcolor": "#E5ECF6",
            "gridcolor": "white",
            "gridwidth": 2,
            "linecolor": "white",
            "showbackground": true,
            "ticks": "",
            "zerolinecolor": "white"
           },
           "yaxis": {
            "backgroundcolor": "#E5ECF6",
            "gridcolor": "white",
            "gridwidth": 2,
            "linecolor": "white",
            "showbackground": true,
            "ticks": "",
            "zerolinecolor": "white"
           },
           "zaxis": {
            "backgroundcolor": "#E5ECF6",
            "gridcolor": "white",
            "gridwidth": 2,
            "linecolor": "white",
            "showbackground": true,
            "ticks": "",
            "zerolinecolor": "white"
           }
          },
          "shapedefaults": {
           "line": {
            "color": "#2a3f5f"
           }
          },
          "ternary": {
           "aaxis": {
            "gridcolor": "white",
            "linecolor": "white",
            "ticks": ""
           },
           "baxis": {
            "gridcolor": "white",
            "linecolor": "white",
            "ticks": ""
           },
           "bgcolor": "#E5ECF6",
           "caxis": {
            "gridcolor": "white",
            "linecolor": "white",
            "ticks": ""
           }
          },
          "title": {
           "x": 0.05
          },
          "xaxis": {
           "automargin": true,
           "gridcolor": "white",
           "linecolor": "white",
           "ticks": "",
           "title": {
            "standoff": 15
           },
           "zerolinecolor": "white",
           "zerolinewidth": 2
          },
          "yaxis": {
           "automargin": true,
           "gridcolor": "white",
           "linecolor": "white",
           "ticks": "",
           "title": {
            "standoff": 15
           },
           "zerolinecolor": "white",
           "zerolinewidth": 2
          }
         }
        },
        "title": {
         "text": "Variação em R$ por Segmento"
        }
       }
      }
     },
     "metadata": {},
     "output_type": "display_data"
    }
   ],
   "source": [
    "fig = px.pie(segmentos_pos_outliers, values='var_rs', names='Segmento', title='Variação em R$ por Segmento')\n",
    "fig.show()"
   ]
  }
 ],
 "metadata": {
  "kernelspec": {
   "display_name": ".venv",
   "language": "python",
   "name": "python3"
  },
  "language_info": {
   "codemirror_mode": {
    "name": "ipython",
    "version": 3
   },
   "file_extension": ".py",
   "mimetype": "text/x-python",
   "name": "python",
   "nbconvert_exporter": "python",
   "pygments_lexer": "ipython3",
   "version": "3.11.2"
  }
 },
 "nbformat": 4,
 "nbformat_minor": 2
}
